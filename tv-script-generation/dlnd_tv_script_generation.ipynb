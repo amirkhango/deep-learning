{
 "cells": [
  {
   "cell_type": "markdown",
   "metadata": {
    "deletable": true,
    "editable": true
   },
   "source": [
    "# TV Script Generation\n",
    "In this project, you'll generate your own [Simpsons](https://en.wikipedia.org/wiki/The_Simpsons) TV scripts using RNNs.  You'll be using part of the [Simpsons dataset](https://www.kaggle.com/wcukierski/the-simpsons-by-the-data) of scripts from 27 seasons.  The Neural Network you'll build will generate a new TV script for a scene at [Moe's Tavern](https://simpsonswiki.com/wiki/Moe's_Tavern).\n",
    "## Get the Data\n",
    "The data is already provided for you.  You'll be using a subset of the original dataset.  It consists of only the scenes in Moe's Tavern.  This doesn't include other versions of the tavern, like \"Moe's Cavern\", \"Flaming Moe's\", \"Uncle Moe's Family Feed-Bag\", etc.."
   ]
  },
  {
   "cell_type": "code",
   "execution_count": 5,
   "metadata": {
    "collapsed": false,
    "deletable": true,
    "editable": true
   },
   "outputs": [],
   "source": [
    "\"\"\"\n",
    "DON'T MODIFY ANYTHING IN THIS CELL\n",
    "\"\"\"\n",
    "import helper\n",
    "\n",
    "data_dir = './data/simpsons/moes_tavern_lines.txt'\n",
    "text = helper.load_data(data_dir)\n",
    "# Ignore notice, since we don't use it for analysing the data\n",
    "text = text[81:]\n",
    "# Shrink txt length to test on CPU, when code transferred to GPU, plese comment these.\n",
    "#text = text[-10:]\n",
    "#len(text)"
   ]
  },
  {
   "cell_type": "markdown",
   "metadata": {
    "deletable": true,
    "editable": true
   },
   "source": [
    "## Explore the Data\n",
    "Play around with `view_sentence_range` to view different parts of the data."
   ]
  },
  {
   "cell_type": "code",
   "execution_count": 6,
   "metadata": {
    "collapsed": false,
    "deletable": true,
    "editable": true
   },
   "outputs": [
    {
     "name": "stdout",
     "output_type": "stream",
     "text": [
      "Dataset Stats\n",
      "Roughly the number of unique words: 11492\n",
      "Number of scenes: 262\n",
      "Average number of sentences in each scene: 15.248091603053435\n",
      "Number of lines: 4257\n",
      "Average number of words in each line: 11.50434578341555\n",
      "\n",
      "The sentences 0 to 10:\n",
      "Moe_Szyslak: (INTO PHONE) Moe's Tavern. Where the elite meet to drink.\n",
      "Bart_Simpson: Eh, yeah, hello, is Mike there? Last name, Rotch.\n",
      "Moe_Szyslak: (INTO PHONE) Hold on, I'll check. (TO BARFLIES) Mike Rotch. Mike Rotch. Hey, has anybody seen Mike Rotch, lately?\n",
      "Moe_Szyslak: (INTO PHONE) Listen you little puke. One of these days I'm gonna catch you, and I'm gonna carve my name on your back with an ice pick.\n",
      "Moe_Szyslak: What's the matter Homer? You're not your normal effervescent self.\n",
      "Homer_Simpson: I got my problems, Moe. Give me another one.\n",
      "Moe_Szyslak: Homer, hey, you should not drink to forget your problems.\n",
      "Barney_Gumble: Yeah, you should only drink to enhance your social skills.\n",
      "\n",
      "\n"
     ]
    }
   ],
   "source": [
    "view_sentence_range = (0, 10)\n",
    "\n",
    "\"\"\"\n",
    "DON'T MODIFY ANYTHING IN THIS CELL\n",
    "\"\"\"\n",
    "import numpy as np\n",
    "\n",
    "print('Dataset Stats')\n",
    "print('Roughly the number of unique words: {}'.format(len({word: None for word in text.split()})))\n",
    "scenes = text.split('\\n\\n')\n",
    "print('Number of scenes: {}'.format(len(scenes)))\n",
    "sentence_count_scene = [scene.count('\\n') for scene in scenes]\n",
    "print('Average number of sentences in each scene: {}'.format(np.average(sentence_count_scene)))\n",
    "\n",
    "sentences = [sentence for scene in scenes for sentence in scene.split('\\n')]\n",
    "print('Number of lines: {}'.format(len(sentences)))\n",
    "word_count_sentence = [len(sentence.split()) for sentence in sentences]\n",
    "print('Average number of words in each line: {}'.format(np.average(word_count_sentence)))\n",
    "\n",
    "print()\n",
    "print('The sentences {} to {}:'.format(*view_sentence_range))\n",
    "print('\\n'.join(text.split('\\n')[view_sentence_range[0]:view_sentence_range[1]]))"
   ]
  },
  {
   "cell_type": "markdown",
   "metadata": {
    "deletable": true,
    "editable": true
   },
   "source": [
    "## Implement Preprocessing Functions\n",
    "The first thing to do to any dataset is preprocessing.  Implement the following preprocessing functions below:\n",
    "- Lookup Table\n",
    "- Tokenize Punctuation\n",
    "\n",
    "### Lookup Table\n",
    "To create a word embedding, you first need to transform the words to ids.  In this function, create two dictionaries:\n",
    "- Dictionary to go from the words to an id, we'll call `vocab_to_int`\n",
    "- Dictionary to go from the id to word, we'll call `int_to_vocab`\n",
    "\n",
    "Return these dictionaries in the following tuple `(vocab_to_int, int_to_vocab)`"
   ]
  },
  {
   "cell_type": "code",
   "execution_count": 7,
   "metadata": {
    "collapsed": false,
    "deletable": true,
    "editable": true
   },
   "outputs": [
    {
     "name": "stdout",
     "output_type": "stream",
     "text": [
      "Tests Passed\n"
     ]
    }
   ],
   "source": [
    "from collections import Counter\n",
    "import numpy as np\n",
    "import problem_unittests as tests\n",
    "\n",
    "def create_lookup_tables(text):\n",
    "    \"\"\"\n",
    "    Create lookup tables for vocabulary\n",
    "    :param text: The text of tv scripts split into words\n",
    "    :return: A tuple of dicts (vocab_to_int, int_to_vocab)\n",
    "    \"\"\"\n",
    "    # TODO: Implement Function\n",
    "    counts = Counter(text)\n",
    "    vocab = sorted(counts, key=counts.get, reverse=True)\n",
    "    vocab_to_int = {word: ii for ii, word in enumerate(vocab,0)}\n",
    "    int_to_vocab = {ii: word for word, ii in vocab_to_int.items()}\n",
    "    \n",
    "    return (vocab_to_int, int_to_vocab)\n",
    "\n",
    "\n",
    "\"\"\"\n",
    "DON'T MODIFY ANYTHING IN THIS CELL THAT IS BELOW THIS LINE\n",
    "\"\"\"\n",
    "tests.test_create_lookup_tables(create_lookup_tables)"
   ]
  },
  {
   "cell_type": "markdown",
   "metadata": {
    "deletable": true,
    "editable": true
   },
   "source": [
    "### Tokenize Punctuation\n",
    "We'll be splitting the script into a word array using spaces as delimiters.  However, punctuations like periods and exclamation marks make it hard for the neural network to distinguish between the word \"bye\" and \"bye!\".\n",
    "\n",
    "Implement the function `token_lookup` to return a dict that will be used to tokenize symbols like \"!\" into \"||Exclamation_Mark||\".  Create a dictionary for the following symbols where the symbol is the key and value is the token:\n",
    "- Period ( . )\n",
    "- Comma ( , )\n",
    "- Quotation Mark ( \" )\n",
    "- Semicolon ( ; )\n",
    "- Exclamation mark ( ! )\n",
    "- Question mark ( ? )\n",
    "- Left Parentheses ( ( )\n",
    "- Right Parentheses ( ) )\n",
    "- Dash ( -- )\n",
    "- Return ( \\n )\n",
    "\n",
    "This dictionary will be used to token the symbols and add the delimiter (space) around it.  This separates the symbols as it's own word, making it easier for the neural network to predict on the next word. Make sure you don't use a token that could be confused as a word. Instead of using the token \"dash\", try using something like \"||dash||\"."
   ]
  },
  {
   "cell_type": "code",
   "execution_count": 8,
   "metadata": {
    "collapsed": false,
    "deletable": true,
    "editable": true
   },
   "outputs": [
    {
     "name": "stdout",
     "output_type": "stream",
     "text": [
      "Tests Passed\n"
     ]
    }
   ],
   "source": [
    "def token_lookup():\n",
    "    \"\"\"\n",
    "    Generate a dict to turn punctuation into a token.\n",
    "    :return: Tokenize dictionary where the key is the punctuation and the value is the token\n",
    "    \"\"\"\n",
    "    # TODO: Implement Function                 \n",
    "    token_dic = {'.':'||Period||',\n",
    "             ',':'||Comma||',    \n",
    "             '\"':'||Quotation_Mark||',\n",
    "             ';':'||Semicolon||',\n",
    "             '!':'||Exclamation_mark||',\n",
    "             '?':'||Question_mark||',\n",
    "             '(':'||Left_Parentheses||',\n",
    "             ')':'||Right_Parentheses||',\n",
    "             '--':'||Dash||',\n",
    "             '\\n':'||Return||'}\n",
    "    return token_dic\n",
    "\n",
    "\"\"\"\n",
    "DON'T MODIFY ANYTHING IN THIS CELL THAT IS BELOW THIS LINE\n",
    "\"\"\"\n",
    "tests.test_tokenize(token_lookup)"
   ]
  },
  {
   "cell_type": "markdown",
   "metadata": {
    "deletable": true,
    "editable": true
   },
   "source": [
    "## Preprocess all the data and save it\n",
    "Running the code cell below will preprocess all the data and save it to file."
   ]
  },
  {
   "cell_type": "code",
   "execution_count": 9,
   "metadata": {
    "collapsed": true,
    "deletable": true,
    "editable": true
   },
   "outputs": [],
   "source": [
    "\"\"\"\n",
    "DON'T MODIFY ANYTHING IN THIS CELL\n",
    "\"\"\"\n",
    "# Preprocess Training, Validation, and Testing Data\n",
    "helper.preprocess_and_save_data(data_dir, token_lookup, create_lookup_tables)"
   ]
  },
  {
   "cell_type": "markdown",
   "metadata": {
    "deletable": true,
    "editable": true
   },
   "source": [
    "# Check Point\n",
    "This is your first checkpoint. If you ever decide to come back to this notebook or have to restart the notebook, you can start from here. The preprocessed data has been saved to disk."
   ]
  },
  {
   "cell_type": "code",
   "execution_count": 10,
   "metadata": {
    "collapsed": true,
    "deletable": true,
    "editable": true
   },
   "outputs": [],
   "source": [
    "\"\"\"\n",
    "DON'T MODIFY ANYTHING IN THIS CELL\n",
    "\"\"\"\n",
    "import helper\n",
    "import numpy as np\n",
    "import problem_unittests as tests\n",
    "\n",
    "int_text, vocab_to_int, int_to_vocab, token_dict = helper.load_preprocess()"
   ]
  },
  {
   "cell_type": "markdown",
   "metadata": {
    "deletable": true,
    "editable": true
   },
   "source": [
    "## Build the Neural Network\n",
    "You'll build the components necessary to build a RNN by implementing the following functions below:\n",
    "- get_inputs\n",
    "- get_init_cell\n",
    "- get_embed\n",
    "- build_rnn\n",
    "- build_nn\n",
    "- get_batches\n",
    "\n",
    "### Check the Version of TensorFlow and Access to GPU"
   ]
  },
  {
   "cell_type": "code",
   "execution_count": 11,
   "metadata": {
    "collapsed": false,
    "deletable": true,
    "editable": true
   },
   "outputs": [
    {
     "name": "stdout",
     "output_type": "stream",
     "text": [
      "TensorFlow Version: 1.0.0\n",
      "Default GPU Device: /gpu:0\n"
     ]
    }
   ],
   "source": [
    "\"\"\"\n",
    "DON'T MODIFY ANYTHING IN THIS CELL\n",
    "\"\"\"\n",
    "from distutils.version import LooseVersion\n",
    "import warnings\n",
    "import tensorflow as tf\n",
    "\n",
    "# Check TensorFlow Version\n",
    "assert LooseVersion(tf.__version__) >= LooseVersion('1.0'), 'Please use TensorFlow version 1.0 or newer'\n",
    "print('TensorFlow Version: {}'.format(tf.__version__))\n",
    "\n",
    "# Check for a GPU\n",
    "if not tf.test.gpu_device_name():\n",
    "    warnings.warn('No GPU found. Please use a GPU to train your neural network.')\n",
    "else:\n",
    "    print('Default GPU Device: {}'.format(tf.test.gpu_device_name()))"
   ]
  },
  {
   "cell_type": "markdown",
   "metadata": {
    "deletable": true,
    "editable": true
   },
   "source": [
    "### Input\n",
    "Implement the `get_inputs()` function to create TF Placeholders for the Neural Network.  It should create the following placeholders:\n",
    "- Input text placeholder named \"input\" using the [TF Placeholder](https://www.tensorflow.org/api_docs/python/tf/placeholder) `name` parameter.\n",
    "- Targets placeholder\n",
    "- Learning Rate placeholder\n",
    "\n",
    "Return the placeholders in the following tuple `(Input, Targets, LearningRate)`"
   ]
  },
  {
   "cell_type": "code",
   "execution_count": 12,
   "metadata": {
    "collapsed": false,
    "deletable": true,
    "editable": true
   },
   "outputs": [
    {
     "name": "stdout",
     "output_type": "stream",
     "text": [
      "Tests Passed\n"
     ]
    }
   ],
   "source": [
    "def get_inputs():\n",
    "    \"\"\"\n",
    "    Create TF Placeholders for input, targets, and learning rate.\n",
    "    :return: Tuple (input, targets, learning rate)\n",
    "    \"\"\"\n",
    "    # TODO: Implement Function\n",
    "    Input = tf.placeholder(tf.int32, [None,None], name='input')\n",
    "    Targets = tf.placeholder(tf.int32, [None,None], name='target')\n",
    "    LearningRate = tf.placeholder(tf.float32, None, name='learningrate')\n",
    "    \n",
    "    return (Input, Targets, LearningRate)\n",
    "\n",
    "\n",
    "\"\"\"\n",
    "DON'T MODIFY ANYTHING IN THIS CELL THAT IS BELOW THIS LINE\n",
    "\"\"\"\n",
    "tests.test_get_inputs(get_inputs)"
   ]
  },
  {
   "cell_type": "markdown",
   "metadata": {
    "deletable": true,
    "editable": true
   },
   "source": [
    "### Build RNN Cell and Initialize\n",
    "Stack one or more [`BasicLSTMCells`](https://www.tensorflow.org/api_docs/python/tf/contrib/rnn/BasicLSTMCell) in a [`MultiRNNCell`](https://www.tensorflow.org/api_docs/python/tf/contrib/rnn/MultiRNNCell).\n",
    "- The Rnn size should be set using `rnn_size`\n",
    "- Initalize Cell State using the MultiRNNCell's [`zero_state()`](https://www.tensorflow.org/api_docs/python/tf/contrib/rnn/MultiRNNCell#zero_state) function\n",
    "    - Apply the name \"initial_state\" to the initial state using [`tf.identity()`](https://www.tensorflow.org/api_docs/python/tf/identity)\n",
    "\n",
    "Return the cell and initial state in the following tuple `(Cell, InitialState)`"
   ]
  },
  {
   "cell_type": "code",
   "execution_count": 13,
   "metadata": {
    "collapsed": false,
    "deletable": true,
    "editable": true
   },
   "outputs": [
    {
     "name": "stdout",
     "output_type": "stream",
     "text": [
      "Tests Passed\n"
     ]
    }
   ],
   "source": [
    "def get_init_cell(batch_size, rnn_size):\n",
    "    \"\"\"\n",
    "    Create an RNN Cell and initialize it.\n",
    "    :param batch_size: Size of batches\n",
    "    :param rnn_size: Size of RNNs\n",
    "    :return: Tuple (cell, initialize state)\n",
    "    \"\"\"\n",
    "    # TODO: Implement Function\n",
    "    \n",
    "    lstm = tf.contrib.rnn.BasicLSTMCell(rnn_size)\n",
    "    # Stack up multiple LSTM layers, for deep learning\n",
    "    Cell = tf.contrib.rnn.MultiRNNCell([lstm])\n",
    "    \n",
    "    # Getting an initial state of all zeros\n",
    "    initial_state = Cell.zero_state(batch_size, tf.float32)\n",
    "    InitialState = tf.identity(initial_state, name = \"initial_state\")\n",
    "    \n",
    "    return (Cell, InitialState)\n",
    "\n",
    "\n",
    "\"\"\"\n",
    "DON'T MODIFY ANYTHING IN THIS CELL THAT IS BELOW THIS LINE\n",
    "\"\"\"\n",
    "tests.test_get_init_cell(get_init_cell)"
   ]
  },
  {
   "cell_type": "markdown",
   "metadata": {
    "deletable": true,
    "editable": true
   },
   "source": [
    "### Word Embedding\n",
    "Apply embedding to `input_data` using TensorFlow.  Return the embedded sequence."
   ]
  },
  {
   "cell_type": "code",
   "execution_count": 14,
   "metadata": {
    "collapsed": false,
    "deletable": true,
    "editable": true
   },
   "outputs": [
    {
     "name": "stdout",
     "output_type": "stream",
     "text": [
      "Tests Passed\n"
     ]
    }
   ],
   "source": [
    "def get_embed(input_data, vocab_size, embed_dim):\n",
    "    \"\"\"\n",
    "    Create embedding for <input_data>.\n",
    "    :param input_data: TF placeholder for text input.\n",
    "    :param vocab_size: Number of words in vocabulary.\n",
    "    :param embed_dim: Number of embedding dimensions\n",
    "    :return: Embedded input.\n",
    "    \"\"\"\n",
    "    # TODO: Implement Function\n",
    "    embedding = tf.Variable(tf.random_uniform((vocab_size, embed_dim), -1, 1))\n",
    "    embedded_input = tf.nn.embedding_lookup(embedding, input_data)\n",
    "    \n",
    "    return embedded_input\n",
    "\n",
    "\n",
    "\"\"\"\n",
    "DON'T MODIFY ANYTHING IN THIS CELL THAT IS BELOW THIS LINE\n",
    "\"\"\"\n",
    "tests.test_get_embed(get_embed)"
   ]
  },
  {
   "cell_type": "markdown",
   "metadata": {
    "deletable": true,
    "editable": true
   },
   "source": [
    "### Build RNN\n",
    "You created a RNN Cell in the `get_init_cell()` function.  Time to use the cell to create a RNN.\n",
    "- Build the RNN using the [`tf.nn.dynamic_rnn()`](https://www.tensorflow.org/api_docs/python/tf/nn/dynamic_rnn)\n",
    " - Apply the name \"final_state\" to the final state using [`tf.identity()`](https://www.tensorflow.org/api_docs/python/tf/identity)\n",
    "\n",
    "Return the outputs and final_state state in the following tuple `(Outputs, FinalState)` "
   ]
  },
  {
   "cell_type": "code",
   "execution_count": 15,
   "metadata": {
    "collapsed": false,
    "deletable": true,
    "editable": true
   },
   "outputs": [
    {
     "name": "stdout",
     "output_type": "stream",
     "text": [
      "Tests Passed\n"
     ]
    }
   ],
   "source": [
    "def build_rnn(cell, inputs):\n",
    "    \"\"\"\n",
    "    Create a RNN using a RNN Cell\n",
    "    :param cell: RNN Cell\n",
    "    :param inputs: Input text data\n",
    "    :return: Tuple (Outputs, Final State)\n",
    "    \"\"\"\n",
    "    # TODO: Implement Function\n",
    "    Outputs, final_state = tf.nn.dynamic_rnn(cell, inputs, dtype = tf.float32)\n",
    "    FinalState = tf.identity(final_state, name = \"final_state\")\n",
    "    return (Outputs, FinalState)\n",
    "\n",
    "\n",
    "\"\"\"\n",
    "DON'T MODIFY ANYTHING IN THIS CELL THAT IS BELOW THIS LINE\n",
    "\"\"\"\n",
    "tests.test_build_rnn(build_rnn)"
   ]
  },
  {
   "cell_type": "markdown",
   "metadata": {
    "deletable": true,
    "editable": true
   },
   "source": [
    "### Build the Neural Network\n",
    "Apply the functions you implemented above to:\n",
    "- Apply embedding to `input_data` using your `get_embed(input_data, vocab_size, embed_dim)` function.\n",
    "- Build RNN using `cell` and your `build_rnn(cell, inputs)` function.\n",
    "- Apply a fully connected layer with a linear activation and `vocab_size` as the number of outputs.\n",
    "\n",
    "Return the logits and final state in the following tuple (Logits, FinalState) "
   ]
  },
  {
   "cell_type": "code",
   "execution_count": 16,
   "metadata": {
    "collapsed": false,
    "deletable": true,
    "editable": true
   },
   "outputs": [
    {
     "name": "stdout",
     "output_type": "stream",
     "text": [
      "Tests Passed\n"
     ]
    }
   ],
   "source": [
    "def build_nn(cell, rnn_size, input_data, vocab_size, embed_dim):\n",
    "    \"\"\"\n",
    "    Build part of the neural network\n",
    "    :param cell: RNN cell\n",
    "    :param rnn_size: Size of rnns\n",
    "    :param input_data: Input data\n",
    "    :param vocab_size: Vocabulary size\n",
    "    :param embed_dim: Number of embedding dimensions\n",
    "    :return: Tuple (Logits, FinalState)\n",
    "    \"\"\"\n",
    "    # TODO: Implement Function\n",
    "    embedding = get_embed(input_data, vocab_size, embed_dim)\n",
    "    Outputs, FinalState = build_rnn(cell, embedding)\n",
    "    Logits = tf.contrib.layers.fully_connected(Outputs, vocab_size,activation_fn=None)\n",
    "    \n",
    "    return (Logits, FinalState)\n",
    "\n",
    "\n",
    "\"\"\"\n",
    "DON'T MODIFY ANYTHING IN THIS CELL THAT IS BELOW THIS LINE\n",
    "\"\"\"\n",
    "tests.test_build_nn(build_nn)"
   ]
  },
  {
   "cell_type": "markdown",
   "metadata": {
    "deletable": true,
    "editable": true
   },
   "source": [
    "### Batches\n",
    "Implement `get_batches` to create batches of input and targets using `int_text`.  The batches should be a Numpy array with the shape `(number of batches, 2, batch size, sequence length)`. Each batch contains two elements:\n",
    "- The first element is a single batch of **input** with the shape `[batch size, sequence length]`\n",
    "- The second element is a single batch of **targets** with the shape `[batch size, sequence length]`\n",
    "\n",
    "If you can't fill the last batch with enough data, drop the last batch.\n",
    "\n",
    "For exmple, `get_batches([1, 2, 3, 4, 5, 6, 7, 8, 9, 10, 11, 12, 13, 14, 15, 16, 17, 18, 19, 20], 3, 2)` would return a Numpy array of the following:\n",
    "```\n",
    "[\n",
    "  # First Batch\n",
    "  [\n",
    "    # Batch of Input\n",
    "    [[ 1  2], [ 7  8], [13 14]]\n",
    "    # Batch of targets\n",
    "    [[ 2  3], [ 8  9], [14 15]]\n",
    "  ]\n",
    "\n",
    "  # Second Batch\n",
    "  [\n",
    "    # Batch of Input\n",
    "    [[ 3  4], [ 9 10], [15 16]]\n",
    "    # Batch of targets\n",
    "    [[ 4  5], [10 11], [16 17]]\n",
    "  ]\n",
    "\n",
    "  # Third Batch\n",
    "  [\n",
    "    # Batch of Input\n",
    "    [[ 5  6], [11 12], [17 18]]\n",
    "    # Batch of targets\n",
    "    [[ 6  7], [12 13], [18  1]]\n",
    "  ]\n",
    "]\n",
    "```\n",
    "\n",
    "Notice that the last target value in the last batch is the first input value of the first batch. In this case, `1`. This is a common technique used when creating sequence batches, although it is rather unintuitive."
   ]
  },
  {
   "cell_type": "code",
   "execution_count": 17,
   "metadata": {
    "collapsed": false,
    "deletable": true,
    "editable": true
   },
   "outputs": [
    {
     "name": "stdout",
     "output_type": "stream",
     "text": [
      "Tests Passed\n"
     ]
    }
   ],
   "source": [
    "def get_batches(int_text, batch_size, seq_length):\n",
    "    \"\"\"\n",
    "    Return batches of input and target\n",
    "    :param int_text: Text with the words replaced by their ids\n",
    "    :param batch_size: The size of batch\n",
    "    :param seq_length: The length of sequence\n",
    "    :return: Batches as a Numpy array\n",
    "    \"\"\"\n",
    "    # TODO: Implement Function\n",
    "    \n",
    "    # Get the number of characters per batch and number of batches we can make\n",
    "    characters_per_batch = batch_size * seq_length\n",
    "    n_batches = len(int_text)//characters_per_batch\n",
    "    \n",
    "    batches = np.zeros((n_batches, 2, batch_size, seq_length))\n",
    "    # Keep only enough characters to make full batches\n",
    "    int_text = np.array(int_text[:n_batches * characters_per_batch])\n",
    "    \n",
    "    targets = np.array(int_text)\n",
    "    targets[:-1], targets[-1] = int_text[1:], int_text[0]\n",
    "       \n",
    "    # Reshape into n_seqs rows\n",
    "    int_text = int_text.reshape((batch_size, -1))\n",
    "    targets = targets.reshape((batch_size, -1))\n",
    "    m=0\n",
    "    for n in range(0, n_batches):\n",
    "        batches[n,0] = int_text[:,m:m+seq_length]\n",
    "        batches[n,1] = targets[:,m:m+seq_length]\n",
    "        m += seq_length\n",
    "    return (batches)\n",
    "\n",
    "\n",
    "\"\"\"\n",
    "DON'T MODIFY ANYTHING IN THIS CELL THAT IS BELOW THIS LINE\n",
    "\"\"\"\n",
    "tests.test_get_batches(get_batches)"
   ]
  },
  {
   "cell_type": "markdown",
   "metadata": {
    "deletable": true,
    "editable": true
   },
   "source": [
    "## Neural Network Training\n",
    "### Hyperparameters\n",
    "Tune the following parameters:\n",
    "\n",
    "- Set `num_epochs` to the number of epochs.\n",
    "- Set `batch_size` to the batch size.\n",
    "- Set `rnn_size` to the size of the RNNs.\n",
    "- Set `embed_dim` to the size of the embedding.\n",
    "- Set `seq_length` to the length of sequence.\n",
    "- Set `learning_rate` to the learning rate.\n",
    "- Set `show_every_n_batches` to the number of batches the neural network should print progress."
   ]
  },
  {
   "cell_type": "code",
   "execution_count": 18,
   "metadata": {
    "collapsed": true,
    "deletable": true,
    "editable": true
   },
   "outputs": [],
   "source": [
    "# Number of Epochs\n",
    "num_epochs = 2548\n",
    "# Batch Size\n",
    "batch_size = 256\n",
    "# RNN Size\n",
    "rnn_size = 128\n",
    "# Embedding Dimension Size\n",
    "embed_dim = 256\n",
    "# Sequence Length\n",
    "seq_length = 15\n",
    "# Learning Rate\n",
    "learning_rate = 0.0001\n",
    "# Show stats for every n number of batches\n",
    "show_every_n_batches = 100\n",
    "\n",
    "\"\"\"\n",
    "DON'T MODIFY ANYTHING IN THIS CELL THAT IS BELOW THIS LINE\n",
    "\"\"\"\n",
    "save_dir = './save'"
   ]
  },
  {
   "cell_type": "markdown",
   "metadata": {
    "deletable": true,
    "editable": true
   },
   "source": [
    "### Build the Graph\n",
    "Build the graph using the neural network you implemented."
   ]
  },
  {
   "cell_type": "code",
   "execution_count": 19,
   "metadata": {
    "collapsed": true,
    "deletable": true,
    "editable": true
   },
   "outputs": [],
   "source": [
    "\"\"\"\n",
    "DON'T MODIFY ANYTHING IN THIS CELL\n",
    "\"\"\"\n",
    "from tensorflow.contrib import seq2seq\n",
    "\n",
    "train_graph = tf.Graph()\n",
    "with train_graph.as_default():\n",
    "    vocab_size = len(int_to_vocab)\n",
    "    input_text, targets, lr = get_inputs()\n",
    "    input_data_shape = tf.shape(input_text)\n",
    "    cell, initial_state = get_init_cell(input_data_shape[0], rnn_size)\n",
    "    logits, final_state = build_nn(cell, rnn_size, input_text, vocab_size, embed_dim)\n",
    "\n",
    "    # Probabilities for generating words\n",
    "    probs = tf.nn.softmax(logits, name='probs')\n",
    "\n",
    "    # Loss function\n",
    "    cost = seq2seq.sequence_loss(\n",
    "        logits,\n",
    "        targets,\n",
    "        tf.ones([input_data_shape[0], input_data_shape[1]]))\n",
    "\n",
    "    # Optimizer\n",
    "    optimizer = tf.train.AdamOptimizer(lr)\n",
    "\n",
    "    # Gradient Clipping\n",
    "    gradients = optimizer.compute_gradients(cost)\n",
    "    capped_gradients = [(tf.clip_by_value(grad, -1., 1.), var) for grad, var in gradients if grad is not None]\n",
    "    train_op = optimizer.apply_gradients(capped_gradients)"
   ]
  },
  {
   "cell_type": "markdown",
   "metadata": {
    "deletable": true,
    "editable": true
   },
   "source": [
    "## Train\n",
    "Train the neural network on the preprocessed data.  If you have a hard time getting a good loss, check the [forums](https://discussions.udacity.com/) to see if anyone is having the same problem."
   ]
  },
  {
   "cell_type": "code",
   "execution_count": 20,
   "metadata": {
    "collapsed": false,
    "deletable": true,
    "editable": true
   },
   "outputs": [
    {
     "name": "stdout",
     "output_type": "stream",
     "text": [
      "Epoch   0 Batch    0/17   train_loss = 8.822\n",
      "Epoch   5 Batch   15/17   train_loss = 7.894\n",
      "Epoch  11 Batch   13/17   train_loss = 6.463\n",
      "Epoch  17 Batch   11/17   train_loss = 6.166\n",
      "Epoch  23 Batch    9/17   train_loss = 6.137\n",
      "Epoch  29 Batch    7/17   train_loss = 6.070\n",
      "Epoch  35 Batch    5/17   train_loss = 6.048\n",
      "Epoch  41 Batch    3/17   train_loss = 5.999\n",
      "Epoch  47 Batch    1/17   train_loss = 5.835\n",
      "Epoch  52 Batch   16/17   train_loss = 5.833\n",
      "Epoch  58 Batch   14/17   train_loss = 5.754\n",
      "Epoch  64 Batch   12/17   train_loss = 5.715\n",
      "Epoch  70 Batch   10/17   train_loss = 5.682\n",
      "Epoch  76 Batch    8/17   train_loss = 5.583\n",
      "Epoch  82 Batch    6/17   train_loss = 5.623\n",
      "Epoch  88 Batch    4/17   train_loss = 5.521\n",
      "Epoch  94 Batch    2/17   train_loss = 5.438\n",
      "Epoch 100 Batch    0/17   train_loss = 5.418\n",
      "Epoch 105 Batch   15/17   train_loss = 5.356\n",
      "Epoch 111 Batch   13/17   train_loss = 5.329\n",
      "Epoch 117 Batch   11/17   train_loss = 5.265\n",
      "Epoch 123 Batch    9/17   train_loss = 5.305\n",
      "Epoch 129 Batch    7/17   train_loss = 5.204\n",
      "Epoch 135 Batch    5/17   train_loss = 5.202\n",
      "Epoch 141 Batch    3/17   train_loss = 5.167\n",
      "Epoch 147 Batch    1/17   train_loss = 5.018\n",
      "Epoch 152 Batch   16/17   train_loss = 5.022\n",
      "Epoch 158 Batch   14/17   train_loss = 4.982\n",
      "Epoch 164 Batch   12/17   train_loss = 4.954\n",
      "Epoch 170 Batch   10/17   train_loss = 4.953\n",
      "Epoch 176 Batch    8/17   train_loss = 4.860\n",
      "Epoch 182 Batch    6/17   train_loss = 4.930\n",
      "Epoch 188 Batch    4/17   train_loss = 4.872\n",
      "Epoch 194 Batch    2/17   train_loss = 4.806\n",
      "Epoch 200 Batch    0/17   train_loss = 4.809\n",
      "Epoch 205 Batch   15/17   train_loss = 4.762\n",
      "Epoch 211 Batch   13/17   train_loss = 4.736\n",
      "Epoch 217 Batch   11/17   train_loss = 4.690\n",
      "Epoch 223 Batch    9/17   train_loss = 4.761\n",
      "Epoch 229 Batch    7/17   train_loss = 4.674\n",
      "Epoch 235 Batch    5/17   train_loss = 4.682\n",
      "Epoch 241 Batch    3/17   train_loss = 4.675\n",
      "Epoch 247 Batch    1/17   train_loss = 4.552\n",
      "Epoch 252 Batch   16/17   train_loss = 4.552\n",
      "Epoch 258 Batch   14/17   train_loss = 4.537\n",
      "Epoch 264 Batch   12/17   train_loss = 4.512\n",
      "Epoch 270 Batch   10/17   train_loss = 4.524\n",
      "Epoch 276 Batch    8/17   train_loss = 4.434\n",
      "Epoch 282 Batch    6/17   train_loss = 4.505\n",
      "Epoch 288 Batch    4/17   train_loss = 4.467\n",
      "Epoch 294 Batch    2/17   train_loss = 4.422\n",
      "Epoch 300 Batch    0/17   train_loss = 4.423\n",
      "Epoch 305 Batch   15/17   train_loss = 4.387\n",
      "Epoch 311 Batch   13/17   train_loss = 4.355\n",
      "Epoch 317 Batch   11/17   train_loss = 4.312\n",
      "Epoch 323 Batch    9/17   train_loss = 4.389\n",
      "Epoch 329 Batch    7/17   train_loss = 4.315\n",
      "Epoch 335 Batch    5/17   train_loss = 4.319\n",
      "Epoch 341 Batch    3/17   train_loss = 4.316\n",
      "Epoch 347 Batch    1/17   train_loss = 4.223\n",
      "Epoch 352 Batch   16/17   train_loss = 4.204\n",
      "Epoch 358 Batch   14/17   train_loss = 4.205\n",
      "Epoch 364 Batch   12/17   train_loss = 4.173\n",
      "Epoch 370 Batch   10/17   train_loss = 4.183\n",
      "Epoch 376 Batch    8/17   train_loss = 4.109\n",
      "Epoch 382 Batch    6/17   train_loss = 4.164\n",
      "Epoch 388 Batch    4/17   train_loss = 4.133\n",
      "Epoch 394 Batch    2/17   train_loss = 4.098\n",
      "Epoch 400 Batch    0/17   train_loss = 4.091\n",
      "Epoch 405 Batch   15/17   train_loss = 4.067\n",
      "Epoch 411 Batch   13/17   train_loss = 4.021\n",
      "Epoch 417 Batch   11/17   train_loss = 3.985\n",
      "Epoch 423 Batch    9/17   train_loss = 4.058\n",
      "Epoch 429 Batch    7/17   train_loss = 4.000\n",
      "Epoch 435 Batch    5/17   train_loss = 3.999\n",
      "Epoch 441 Batch    3/17   train_loss = 3.994\n",
      "Epoch 447 Batch    1/17   train_loss = 3.924\n",
      "Epoch 452 Batch   16/17   train_loss = 3.893\n",
      "Epoch 458 Batch   14/17   train_loss = 3.910\n",
      "Epoch 464 Batch   12/17   train_loss = 3.869\n",
      "Epoch 470 Batch   10/17   train_loss = 3.876\n",
      "Epoch 476 Batch    8/17   train_loss = 3.817\n",
      "Epoch 482 Batch    6/17   train_loss = 3.852\n",
      "Epoch 488 Batch    4/17   train_loss = 3.833\n",
      "Epoch 494 Batch    2/17   train_loss = 3.803\n",
      "Epoch 500 Batch    0/17   train_loss = 3.786\n",
      "Epoch 505 Batch   15/17   train_loss = 3.778\n",
      "Epoch 511 Batch   13/17   train_loss = 3.714\n",
      "Epoch 517 Batch   11/17   train_loss = 3.685\n",
      "Epoch 523 Batch    9/17   train_loss = 3.757\n",
      "Epoch 529 Batch    7/17   train_loss = 3.710\n",
      "Epoch 535 Batch    5/17   train_loss = 3.705\n",
      "Epoch 541 Batch    3/17   train_loss = 3.699\n",
      "Epoch 547 Batch    1/17   train_loss = 3.647\n",
      "Epoch 552 Batch   16/17   train_loss = 3.609\n",
      "Epoch 558 Batch   14/17   train_loss = 3.632\n",
      "Epoch 564 Batch   12/17   train_loss = 3.585\n",
      "Epoch 570 Batch   10/17   train_loss = 3.592\n",
      "Epoch 576 Batch    8/17   train_loss = 3.552\n",
      "Epoch 582 Batch    6/17   train_loss = 3.562\n",
      "Epoch 588 Batch    4/17   train_loss = 3.553\n",
      "Epoch 594 Batch    2/17   train_loss = 3.529\n",
      "Epoch 600 Batch    0/17   train_loss = 3.510\n",
      "Epoch 605 Batch   15/17   train_loss = 3.510\n",
      "Epoch 611 Batch   13/17   train_loss = 3.439\n",
      "Epoch 617 Batch   11/17   train_loss = 3.412\n",
      "Epoch 623 Batch    9/17   train_loss = 3.482\n",
      "Epoch 629 Batch    7/17   train_loss = 3.448\n",
      "Epoch 635 Batch    5/17   train_loss = 3.435\n",
      "Epoch 641 Batch    3/17   train_loss = 3.433\n",
      "Epoch 647 Batch    1/17   train_loss = 3.397\n",
      "Epoch 652 Batch   16/17   train_loss = 3.355\n",
      "Epoch 658 Batch   14/17   train_loss = 3.374\n",
      "Epoch 664 Batch   12/17   train_loss = 3.325\n",
      "Epoch 670 Batch   10/17   train_loss = 3.330\n",
      "Epoch 676 Batch    8/17   train_loss = 3.310\n",
      "Epoch 682 Batch    6/17   train_loss = 3.299\n",
      "Epoch 688 Batch    4/17   train_loss = 3.299\n",
      "Epoch 694 Batch    2/17   train_loss = 3.272\n",
      "Epoch 700 Batch    0/17   train_loss = 3.256\n",
      "Epoch 705 Batch   15/17   train_loss = 3.260\n",
      "Epoch 711 Batch   13/17   train_loss = 3.187\n",
      "Epoch 717 Batch   11/17   train_loss = 3.164\n",
      "Epoch 723 Batch    9/17   train_loss = 3.225\n",
      "Epoch 729 Batch    7/17   train_loss = 3.208\n",
      "Epoch 735 Batch    5/17   train_loss = 3.183\n",
      "Epoch 741 Batch    3/17   train_loss = 3.191\n",
      "Epoch 747 Batch    1/17   train_loss = 3.166\n",
      "Epoch 752 Batch   16/17   train_loss = 3.118\n",
      "Epoch 758 Batch   14/17   train_loss = 3.137\n",
      "Epoch 764 Batch   12/17   train_loss = 3.088\n",
      "Epoch 770 Batch   10/17   train_loss = 3.093\n",
      "Epoch 776 Batch    8/17   train_loss = 3.084\n",
      "Epoch 782 Batch    6/17   train_loss = 3.066\n",
      "Epoch 788 Batch    4/17   train_loss = 3.070\n",
      "Epoch 794 Batch    2/17   train_loss = 3.034\n",
      "Epoch 800 Batch    0/17   train_loss = 3.025\n",
      "Epoch 805 Batch   15/17   train_loss = 3.030\n",
      "Epoch 811 Batch   13/17   train_loss = 2.956\n",
      "Epoch 817 Batch   11/17   train_loss = 2.939\n",
      "Epoch 823 Batch    9/17   train_loss = 2.990\n",
      "Epoch 829 Batch    7/17   train_loss = 2.987\n",
      "Epoch 835 Batch    5/17   train_loss = 2.952\n",
      "Epoch 841 Batch    3/17   train_loss = 2.970\n",
      "Epoch 847 Batch    1/17   train_loss = 2.956\n",
      "Epoch 852 Batch   16/17   train_loss = 2.902\n",
      "Epoch 858 Batch   14/17   train_loss = 2.920\n",
      "Epoch 864 Batch   12/17   train_loss = 2.869\n",
      "Epoch 870 Batch   10/17   train_loss = 2.879\n",
      "Epoch 876 Batch    8/17   train_loss = 2.874\n",
      "Epoch 882 Batch    6/17   train_loss = 2.854\n",
      "Epoch 888 Batch    4/17   train_loss = 2.858\n",
      "Epoch 894 Batch    2/17   train_loss = 2.814\n",
      "Epoch 900 Batch    0/17   train_loss = 2.812\n",
      "Epoch 905 Batch   15/17   train_loss = 2.819\n",
      "Epoch 911 Batch   13/17   train_loss = 2.745\n",
      "Epoch 917 Batch   11/17   train_loss = 2.731\n",
      "Epoch 923 Batch    9/17   train_loss = 2.776\n",
      "Epoch 929 Batch    7/17   train_loss = 2.782\n",
      "Epoch 935 Batch    5/17   train_loss = 2.737\n",
      "Epoch 941 Batch    3/17   train_loss = 2.762\n",
      "Epoch 947 Batch    1/17   train_loss = 2.764\n",
      "Epoch 952 Batch   16/17   train_loss = 2.699\n",
      "Epoch 958 Batch   14/17   train_loss = 2.716\n",
      "Epoch 964 Batch   12/17   train_loss = 2.668\n",
      "Epoch 970 Batch   10/17   train_loss = 2.678\n",
      "Epoch 976 Batch    8/17   train_loss = 2.675\n",
      "Epoch 982 Batch    6/17   train_loss = 2.659\n",
      "Epoch 988 Batch    4/17   train_loss = 2.662\n",
      "Epoch 994 Batch    2/17   train_loss = 2.613\n",
      "Epoch 1000 Batch    0/17   train_loss = 2.612\n",
      "Epoch 1005 Batch   15/17   train_loss = 2.620\n",
      "Epoch 1011 Batch   13/17   train_loss = 2.550\n",
      "Epoch 1017 Batch   11/17   train_loss = 2.540\n",
      "Epoch 1023 Batch    9/17   train_loss = 2.577\n",
      "Epoch 1029 Batch    7/17   train_loss = 2.592\n",
      "Epoch 1035 Batch    5/17   train_loss = 2.536\n",
      "Epoch 1041 Batch    3/17   train_loss = 2.568\n",
      "Epoch 1047 Batch    1/17   train_loss = 2.582\n",
      "Epoch 1052 Batch   16/17   train_loss = 2.508\n",
      "Epoch 1058 Batch   14/17   train_loss = 2.529\n",
      "Epoch 1064 Batch   12/17   train_loss = 2.480\n",
      "Epoch 1070 Batch   10/17   train_loss = 2.491\n",
      "Epoch 1076 Batch    8/17   train_loss = 2.490\n",
      "Epoch 1082 Batch    6/17   train_loss = 2.482\n",
      "Epoch 1088 Batch    4/17   train_loss = 2.481\n",
      "Epoch 1094 Batch    2/17   train_loss = 2.425\n",
      "Epoch 1100 Batch    0/17   train_loss = 2.428\n",
      "Epoch 1105 Batch   15/17   train_loss = 2.437\n",
      "Epoch 1111 Batch   13/17   train_loss = 2.368\n",
      "Epoch 1117 Batch   11/17   train_loss = 2.361\n",
      "Epoch 1123 Batch    9/17   train_loss = 2.395\n",
      "Epoch 1129 Batch    7/17   train_loss = 2.415\n",
      "Epoch 1135 Batch    5/17   train_loss = 2.349\n",
      "Epoch 1141 Batch    3/17   train_loss = 2.388\n",
      "Epoch 1147 Batch    1/17   train_loss = 2.416\n",
      "Epoch 1152 Batch   16/17   train_loss = 2.330\n",
      "Epoch 1158 Batch   14/17   train_loss = 2.359\n",
      "Epoch 1164 Batch   12/17   train_loss = 2.308\n",
      "Epoch 1170 Batch   10/17   train_loss = 2.318\n",
      "Epoch 1176 Batch    8/17   train_loss = 2.320\n",
      "Epoch 1182 Batch    6/17   train_loss = 2.318\n",
      "Epoch 1188 Batch    4/17   train_loss = 2.312\n",
      "Epoch 1194 Batch    2/17   train_loss = 2.254\n",
      "Epoch 1200 Batch    0/17   train_loss = 2.260\n",
      "Epoch 1205 Batch   15/17   train_loss = 2.269\n",
      "Epoch 1211 Batch   13/17   train_loss = 2.199\n",
      "Epoch 1217 Batch   11/17   train_loss = 2.197\n",
      "Epoch 1223 Batch    9/17   train_loss = 2.224\n",
      "Epoch 1229 Batch    7/17   train_loss = 2.253\n",
      "Epoch 1235 Batch    5/17   train_loss = 2.177\n",
      "Epoch 1241 Batch    3/17   train_loss = 2.226\n",
      "Epoch 1247 Batch    1/17   train_loss = 2.264\n",
      "Epoch 1252 Batch   16/17   train_loss = 2.165\n",
      "Epoch 1258 Batch   14/17   train_loss = 2.202\n",
      "Epoch 1264 Batch   12/17   train_loss = 2.149\n",
      "Epoch 1270 Batch   10/17   train_loss = 2.161\n",
      "Epoch 1276 Batch    8/17   train_loss = 2.163\n",
      "Epoch 1282 Batch    6/17   train_loss = 2.169\n",
      "Epoch 1288 Batch    4/17   train_loss = 2.160\n",
      "Epoch 1294 Batch    2/17   train_loss = 2.099\n",
      "Epoch 1300 Batch    0/17   train_loss = 2.108\n",
      "Epoch 1305 Batch   15/17   train_loss = 2.118\n",
      "Epoch 1311 Batch   13/17   train_loss = 2.044\n",
      "Epoch 1317 Batch   11/17   train_loss = 2.047\n",
      "Epoch 1323 Batch    9/17   train_loss = 2.069\n",
      "Epoch 1329 Batch    7/17   train_loss = 2.104\n",
      "Epoch 1335 Batch    5/17   train_loss = 2.018\n",
      "Epoch 1341 Batch    3/17   train_loss = 2.076\n",
      "Epoch 1347 Batch    1/17   train_loss = 2.129\n",
      "Epoch 1352 Batch   16/17   train_loss = 2.016\n",
      "Epoch 1358 Batch   14/17   train_loss = 2.061\n",
      "Epoch 1364 Batch   12/17   train_loss = 2.006\n",
      "Epoch 1370 Batch   10/17   train_loss = 2.019\n",
      "Epoch 1376 Batch    8/17   train_loss = 2.022\n",
      "Epoch 1382 Batch    6/17   train_loss = 2.031\n",
      "Epoch 1388 Batch    4/17   train_loss = 2.019\n",
      "Epoch 1394 Batch    2/17   train_loss = 1.958\n",
      "Epoch 1400 Batch    0/17   train_loss = 1.968\n",
      "Epoch 1405 Batch   15/17   train_loss = 1.980\n",
      "Epoch 1411 Batch   13/17   train_loss = 1.906\n",
      "Epoch 1417 Batch   11/17   train_loss = 1.910\n",
      "Epoch 1423 Batch    9/17   train_loss = 1.932\n",
      "Epoch 1429 Batch    7/17   train_loss = 1.974\n",
      "Epoch 1435 Batch    5/17   train_loss = 1.876\n",
      "Epoch 1441 Batch    3/17   train_loss = 1.939\n",
      "Epoch 1447 Batch    1/17   train_loss = 2.004\n",
      "Epoch 1452 Batch   16/17   train_loss = 1.880\n",
      "Epoch 1458 Batch   14/17   train_loss = 1.934\n",
      "Epoch 1464 Batch   12/17   train_loss = 1.875\n",
      "Epoch 1470 Batch   10/17   train_loss = 1.891\n",
      "Epoch 1476 Batch    8/17   train_loss = 1.893\n",
      "Epoch 1482 Batch    6/17   train_loss = 1.906\n",
      "Epoch 1488 Batch    4/17   train_loss = 1.892\n",
      "Epoch 1494 Batch    2/17   train_loss = 1.829\n",
      "Epoch 1500 Batch    0/17   train_loss = 1.841\n",
      "Epoch 1505 Batch   15/17   train_loss = 1.857\n",
      "Epoch 1511 Batch   13/17   train_loss = 1.782\n",
      "Epoch 1517 Batch   11/17   train_loss = 1.788\n",
      "Epoch 1523 Batch    9/17   train_loss = 1.806\n",
      "Epoch 1529 Batch    7/17   train_loss = 1.851\n",
      "Epoch 1535 Batch    5/17   train_loss = 1.748\n",
      "Epoch 1541 Batch    3/17   train_loss = 1.815\n",
      "Epoch 1547 Batch    1/17   train_loss = 1.891\n",
      "Epoch 1552 Batch   16/17   train_loss = 1.755\n",
      "Epoch 1558 Batch   14/17   train_loss = 1.819\n",
      "Epoch 1564 Batch   12/17   train_loss = 1.758\n",
      "Epoch 1570 Batch   10/17   train_loss = 1.775\n",
      "Epoch 1576 Batch    8/17   train_loss = 1.774\n",
      "Epoch 1582 Batch    6/17   train_loss = 1.793\n",
      "Epoch 1588 Batch    4/17   train_loss = 1.781\n",
      "Epoch 1594 Batch    2/17   train_loss = 1.716\n",
      "Epoch 1600 Batch    0/17   train_loss = 1.726\n",
      "Epoch 1605 Batch   15/17   train_loss = 1.745\n",
      "Epoch 1611 Batch   13/17   train_loss = 1.668\n",
      "Epoch 1617 Batch   11/17   train_loss = 1.677\n",
      "Epoch 1623 Batch    9/17   train_loss = 1.699\n",
      "Epoch 1629 Batch    7/17   train_loss = 1.742\n",
      "Epoch 1635 Batch    5/17   train_loss = 1.635\n",
      "Epoch 1641 Batch    3/17   train_loss = 1.703\n",
      "Epoch 1647 Batch    1/17   train_loss = 1.785\n",
      "Epoch 1652 Batch   16/17   train_loss = 1.646\n",
      "Epoch 1658 Batch   14/17   train_loss = 1.717\n",
      "Epoch 1664 Batch   12/17   train_loss = 1.652\n",
      "Epoch 1670 Batch   10/17   train_loss = 1.671\n",
      "Epoch 1676 Batch    8/17   train_loss = 1.670\n",
      "Epoch 1682 Batch    6/17   train_loss = 1.690\n",
      "Epoch 1688 Batch    4/17   train_loss = 1.674\n",
      "Epoch 1694 Batch    2/17   train_loss = 1.609\n",
      "Epoch 1700 Batch    0/17   train_loss = 1.622\n",
      "Epoch 1705 Batch   15/17   train_loss = 1.644\n",
      "Epoch 1711 Batch   13/17   train_loss = 1.567\n",
      "Epoch 1717 Batch   11/17   train_loss = 1.576\n",
      "Epoch 1723 Batch    9/17   train_loss = 1.595\n",
      "Epoch 1729 Batch    7/17   train_loss = 1.640\n",
      "Epoch 1735 Batch    5/17   train_loss = 1.534\n",
      "Epoch 1741 Batch    3/17   train_loss = 1.601\n",
      "Epoch 1747 Batch    1/17   train_loss = 1.689\n",
      "Epoch 1752 Batch   16/17   train_loss = 1.545\n",
      "Epoch 1758 Batch   14/17   train_loss = 1.621\n",
      "Epoch 1764 Batch   12/17   train_loss = 1.557\n",
      "Epoch 1770 Batch   10/17   train_loss = 1.579\n",
      "Epoch 1776 Batch    8/17   train_loss = 1.573\n",
      "Epoch 1782 Batch    6/17   train_loss = 1.595\n",
      "Epoch 1788 Batch    4/17   train_loss = 1.579\n",
      "Epoch 1794 Batch    2/17   train_loss = 1.515\n",
      "Epoch 1800 Batch    0/17   train_loss = 1.529\n",
      "Epoch 1805 Batch   15/17   train_loss = 1.550\n",
      "Epoch 1811 Batch   13/17   train_loss = 1.471\n",
      "Epoch 1817 Batch   11/17   train_loss = 1.487\n",
      "Epoch 1823 Batch    9/17   train_loss = 1.503\n",
      "Epoch 1829 Batch    7/17   train_loss = 1.548\n",
      "Epoch 1835 Batch    5/17   train_loss = 1.441\n",
      "Epoch 1841 Batch    3/17   train_loss = 1.511\n",
      "Epoch 1847 Batch    1/17   train_loss = 1.604\n",
      "Epoch 1852 Batch   16/17   train_loss = 1.454\n",
      "Epoch 1858 Batch   14/17   train_loss = 1.534\n",
      "Epoch 1864 Batch   12/17   train_loss = 1.470\n",
      "Epoch 1870 Batch   10/17   train_loss = 1.494\n",
      "Epoch 1876 Batch    8/17   train_loss = 1.486\n",
      "Epoch 1882 Batch    6/17   train_loss = 1.509\n",
      "Epoch 1888 Batch    4/17   train_loss = 1.490\n",
      "Epoch 1894 Batch    2/17   train_loss = 1.430\n",
      "Epoch 1900 Batch    0/17   train_loss = 1.444\n",
      "Epoch 1905 Batch   15/17   train_loss = 1.465\n",
      "Epoch 1911 Batch   13/17   train_loss = 1.384\n",
      "Epoch 1917 Batch   11/17   train_loss = 1.403\n",
      "Epoch 1923 Batch    9/17   train_loss = 1.417\n",
      "Epoch 1929 Batch    7/17   train_loss = 1.463\n",
      "Epoch 1935 Batch    5/17   train_loss = 1.356\n",
      "Epoch 1941 Batch    3/17   train_loss = 1.428\n",
      "Epoch 1947 Batch    1/17   train_loss = 1.524\n",
      "Epoch 1952 Batch   16/17   train_loss = 1.373\n",
      "Epoch 1958 Batch   14/17   train_loss = 1.456\n",
      "Epoch 1964 Batch   12/17   train_loss = 1.392\n",
      "Epoch 1970 Batch   10/17   train_loss = 1.415\n",
      "Epoch 1976 Batch    8/17   train_loss = 1.407\n",
      "Epoch 1982 Batch    6/17   train_loss = 1.430\n",
      "Epoch 1988 Batch    4/17   train_loss = 1.408\n",
      "Epoch 1994 Batch    2/17   train_loss = 1.352\n",
      "Epoch 2000 Batch    0/17   train_loss = 1.365\n",
      "Epoch 2005 Batch   15/17   train_loss = 1.390\n",
      "Epoch 2011 Batch   13/17   train_loss = 1.304\n",
      "Epoch 2017 Batch   11/17   train_loss = 1.329\n",
      "Epoch 2023 Batch    9/17   train_loss = 1.341\n",
      "Epoch 2029 Batch    7/17   train_loss = 1.385\n",
      "Epoch 2035 Batch    5/17   train_loss = 1.277\n",
      "Epoch 2041 Batch    3/17   train_loss = 1.350\n",
      "Epoch 2047 Batch    1/17   train_loss = 1.453\n",
      "Epoch 2052 Batch   16/17   train_loss = 1.301\n",
      "Epoch 2058 Batch   14/17   train_loss = 1.385\n",
      "Epoch 2064 Batch   12/17   train_loss = 1.317\n",
      "Epoch 2070 Batch   10/17   train_loss = 1.340\n",
      "Epoch 2076 Batch    8/17   train_loss = 1.335\n",
      "Epoch 2082 Batch    6/17   train_loss = 1.360\n",
      "Epoch 2088 Batch    4/17   train_loss = 1.337\n",
      "Epoch 2094 Batch    2/17   train_loss = 1.278\n",
      "Epoch 2100 Batch    0/17   train_loss = 1.292\n",
      "Epoch 2105 Batch   15/17   train_loss = 1.321\n",
      "Epoch 2111 Batch   13/17   train_loss = 1.234\n",
      "Epoch 2117 Batch   11/17   train_loss = 1.260\n",
      "Epoch 2123 Batch    9/17   train_loss = 1.271\n",
      "Epoch 2129 Batch    7/17   train_loss = 1.315\n",
      "Epoch 2135 Batch    5/17   train_loss = 1.208\n",
      "Epoch 2141 Batch    3/17   train_loss = 1.280\n",
      "Epoch 2147 Batch    1/17   train_loss = 1.386\n",
      "Epoch 2152 Batch   16/17   train_loss = 1.235\n",
      "Epoch 2158 Batch   14/17   train_loss = 1.315\n",
      "Epoch 2164 Batch   12/17   train_loss = 1.251\n",
      "Epoch 2170 Batch   10/17   train_loss = 1.275\n",
      "Epoch 2176 Batch    8/17   train_loss = 1.269\n",
      "Epoch 2182 Batch    6/17   train_loss = 1.291\n",
      "Epoch 2188 Batch    4/17   train_loss = 1.267\n",
      "Epoch 2194 Batch    2/17   train_loss = 1.215\n",
      "Epoch 2200 Batch    0/17   train_loss = 1.227\n",
      "Epoch 2205 Batch   15/17   train_loss = 1.256\n",
      "Epoch 2211 Batch   13/17   train_loss = 1.169\n",
      "Epoch 2217 Batch   11/17   train_loss = 1.199\n",
      "Epoch 2223 Batch    9/17   train_loss = 1.205\n",
      "Epoch 2229 Batch    7/17   train_loss = 1.249\n",
      "Epoch 2235 Batch    5/17   train_loss = 1.144\n",
      "Epoch 2241 Batch    3/17   train_loss = 1.216\n",
      "Epoch 2247 Batch    1/17   train_loss = 1.324\n",
      "Epoch 2252 Batch   16/17   train_loss = 1.171\n",
      "Epoch 2258 Batch   14/17   train_loss = 1.254\n",
      "Epoch 2264 Batch   12/17   train_loss = 1.191\n",
      "Epoch 2270 Batch   10/17   train_loss = 1.210\n",
      "Epoch 2276 Batch    8/17   train_loss = 1.204\n",
      "Epoch 2282 Batch    6/17   train_loss = 1.232\n",
      "Epoch 2288 Batch    4/17   train_loss = 1.206\n",
      "Epoch 2294 Batch    2/17   train_loss = 1.151\n",
      "Epoch 2300 Batch    0/17   train_loss = 1.166\n",
      "Epoch 2305 Batch   15/17   train_loss = 1.197\n",
      "Epoch 2311 Batch   13/17   train_loss = 1.109\n",
      "Epoch 2317 Batch   11/17   train_loss = 1.142\n",
      "Epoch 2323 Batch    9/17   train_loss = 1.146\n",
      "Epoch 2329 Batch    7/17   train_loss = 1.193\n",
      "Epoch 2335 Batch    5/17   train_loss = 1.083\n",
      "Epoch 2341 Batch    3/17   train_loss = 1.156\n",
      "Epoch 2347 Batch    1/17   train_loss = 1.269\n",
      "Epoch 2352 Batch   16/17   train_loss = 1.113\n",
      "Epoch 2358 Batch   14/17   train_loss = 1.194\n",
      "Epoch 2364 Batch   12/17   train_loss = 1.135\n",
      "Epoch 2370 Batch   10/17   train_loss = 1.154\n",
      "Epoch 2376 Batch    8/17   train_loss = 1.152\n",
      "Epoch 2382 Batch    6/17   train_loss = 1.173\n",
      "Epoch 2388 Batch    4/17   train_loss = 1.146\n",
      "Epoch 2394 Batch    2/17   train_loss = 1.096\n",
      "Epoch 2400 Batch    0/17   train_loss = 1.111\n",
      "Epoch 2405 Batch   15/17   train_loss = 1.141\n",
      "Epoch 2411 Batch   13/17   train_loss = 1.056\n",
      "Epoch 2417 Batch   11/17   train_loss = 1.092\n",
      "Epoch 2423 Batch    9/17   train_loss = 1.091\n",
      "Epoch 2429 Batch    7/17   train_loss = 1.133\n",
      "Epoch 2435 Batch    5/17   train_loss = 1.030\n",
      "Epoch 2441 Batch    3/17   train_loss = 1.103\n",
      "Epoch 2447 Batch    1/17   train_loss = 1.210\n",
      "Epoch 2452 Batch   16/17   train_loss = 1.061\n",
      "Epoch 2458 Batch   14/17   train_loss = 1.143\n",
      "Epoch 2464 Batch   12/17   train_loss = 1.084\n",
      "Epoch 2470 Batch   10/17   train_loss = 1.098\n",
      "Epoch 2476 Batch    8/17   train_loss = 1.097\n",
      "Epoch 2482 Batch    6/17   train_loss = 1.120\n",
      "Epoch 2488 Batch    4/17   train_loss = 1.091\n",
      "Epoch 2494 Batch    2/17   train_loss = 1.041\n",
      "Epoch 2500 Batch    0/17   train_loss = 1.061\n",
      "Epoch 2505 Batch   15/17   train_loss = 1.091\n",
      "Epoch 2511 Batch   13/17   train_loss = 1.006\n",
      "Epoch 2517 Batch   11/17   train_loss = 1.042\n",
      "Epoch 2523 Batch    9/17   train_loss = 1.043\n",
      "Epoch 2529 Batch    7/17   train_loss = 1.079\n",
      "Epoch 2535 Batch    5/17   train_loss = 0.981\n",
      "Epoch 2541 Batch    3/17   train_loss = 1.050\n",
      "Epoch 2547 Batch    1/17   train_loss = 1.158\n",
      "Model Trained and Saved\n"
     ]
    }
   ],
   "source": [
    "\"\"\"\n",
    "DON'T MODIFY ANYTHING IN THIS CELL\n",
    "\"\"\"\n",
    "batches = get_batches(int_text, batch_size, seq_length)\n",
    "\n",
    "with tf.Session(graph=train_graph) as sess:\n",
    "    sess.run(tf.global_variables_initializer())\n",
    "\n",
    "    for epoch_i in range(num_epochs):\n",
    "        state = sess.run(initial_state, {input_text: batches[0][0]})\n",
    "\n",
    "        for batch_i, (x, y) in enumerate(batches):\n",
    "            feed = {\n",
    "                input_text: x,\n",
    "                targets: y,\n",
    "                initial_state: state,\n",
    "                lr: learning_rate}\n",
    "            train_loss, state, _ = sess.run([cost, final_state, train_op], feed)\n",
    "\n",
    "            # Show every <show_every_n_batches> batches\n",
    "            if (epoch_i * len(batches) + batch_i) % show_every_n_batches == 0:\n",
    "                print('Epoch {:>3} Batch {:>4}/{}   train_loss = {:.3f}'.format(\n",
    "                    epoch_i,\n",
    "                    batch_i,\n",
    "                    len(batches),\n",
    "                    train_loss))\n",
    "\n",
    "    # Save Model\n",
    "    saver = tf.train.Saver()\n",
    "    saver.save(sess, save_dir)\n",
    "    print('Model Trained and Saved')"
   ]
  },
  {
   "cell_type": "markdown",
   "metadata": {
    "deletable": true,
    "editable": true
   },
   "source": [
    "## Save Parameters\n",
    "Save `seq_length` and `save_dir` for generating a new TV script."
   ]
  },
  {
   "cell_type": "code",
   "execution_count": 21,
   "metadata": {
    "collapsed": true,
    "deletable": true,
    "editable": true
   },
   "outputs": [],
   "source": [
    "\"\"\"\n",
    "DON'T MODIFY ANYTHING IN THIS CELL\n",
    "\"\"\"\n",
    "# Save parameters for checkpoint\n",
    "helper.save_params((seq_length, save_dir))"
   ]
  },
  {
   "cell_type": "markdown",
   "metadata": {
    "deletable": true,
    "editable": true
   },
   "source": [
    "# Checkpoint"
   ]
  },
  {
   "cell_type": "code",
   "execution_count": 22,
   "metadata": {
    "collapsed": true,
    "deletable": true,
    "editable": true
   },
   "outputs": [],
   "source": [
    "\"\"\"\n",
    "DON'T MODIFY ANYTHING IN THIS CELL\n",
    "\"\"\"\n",
    "import tensorflow as tf\n",
    "import numpy as np\n",
    "import helper\n",
    "import problem_unittests as tests\n",
    "\n",
    "_, vocab_to_int, int_to_vocab, token_dict = helper.load_preprocess()\n",
    "seq_length, load_dir = helper.load_params()"
   ]
  },
  {
   "cell_type": "markdown",
   "metadata": {
    "deletable": true,
    "editable": true
   },
   "source": [
    "## Implement Generate Functions\n",
    "### Get Tensors\n",
    "Get tensors from `loaded_graph` using the function [`get_tensor_by_name()`](https://www.tensorflow.org/api_docs/python/tf/Graph#get_tensor_by_name).  Get the tensors using the following names:\n",
    "- \"input:0\"\n",
    "- \"initial_state:0\"\n",
    "- \"final_state:0\"\n",
    "- \"probs:0\"\n",
    "\n",
    "Return the tensors in the following tuple `(InputTensor, InitialStateTensor, FinalStateTensor, ProbsTensor)` "
   ]
  },
  {
   "cell_type": "code",
   "execution_count": 23,
   "metadata": {
    "collapsed": false,
    "deletable": true,
    "editable": true
   },
   "outputs": [
    {
     "name": "stdout",
     "output_type": "stream",
     "text": [
      "Tests Passed\n"
     ]
    }
   ],
   "source": [
    "def get_tensors(loaded_graph):\n",
    "    \"\"\"\n",
    "    Get input, initial state, final state, and probabilities tensor from <loaded_graph>\n",
    "    :param loaded_graph: TensorFlow graph loaded from file\n",
    "    :return: Tuple (InputTensor, InitialStateTensor, FinalStateTensor, ProbsTensor)\n",
    "    \"\"\"\n",
    "    # TODO: Implement Function\n",
    "    InputTensor = loaded_graph.get_tensor_by_name('input:0')\n",
    "    InitialStateTensor = loaded_graph.get_tensor_by_name('initial_state:0')\n",
    "    FinalStateTensor = loaded_graph.get_tensor_by_name('final_state:0')\n",
    "    ProbsTensor = loaded_graph.get_tensor_by_name('probs:0')\n",
    "    \n",
    "    return (InputTensor, InitialStateTensor, FinalStateTensor, ProbsTensor)\n",
    "\n",
    "\n",
    "\"\"\"\n",
    "DON'T MODIFY ANYTHING IN THIS CELL THAT IS BELOW THIS LINE\n",
    "\"\"\"\n",
    "tests.test_get_tensors(get_tensors)"
   ]
  },
  {
   "cell_type": "markdown",
   "metadata": {
    "deletable": true,
    "editable": true
   },
   "source": [
    "### Choose Word\n",
    "Implement the `pick_word()` function to select the next word using `probabilities`."
   ]
  },
  {
   "cell_type": "code",
   "execution_count": 24,
   "metadata": {
    "collapsed": false,
    "deletable": true,
    "editable": true
   },
   "outputs": [
    {
     "name": "stdout",
     "output_type": "stream",
     "text": [
      "Tests Passed\n"
     ]
    }
   ],
   "source": [
    "def pick_word(probabilities, int_to_vocab):\n",
    "    \"\"\"\n",
    "    Pick the next word in the generated text\n",
    "    :param probabilities: Probabilites of the next word\n",
    "    :param int_to_vocab: Dictionary of word ids as the keys and words as the values\n",
    "    :return: String of the predicted word\n",
    "    \"\"\"\n",
    "    \n",
    "    \n",
    "    # TODO: Implement Function\n",
    "    top_n = 5\n",
    "    p = np.array(probabilities)\n",
    "    p = np.squeeze(p)\n",
    "    p[np.argsort(p)[:-top_n]] = 0\n",
    "    p = p / np.sum(p)\n",
    "    vocab = [word for word in int_to_vocab.values()]\n",
    "    c = np.random.choice(vocab, 1, p=p)[0]  \n",
    "\n",
    "    return c\n",
    "\n",
    "\n",
    "\"\"\"\n",
    "DON'T MODIFY ANYTHING IN THIS CELL THAT IS BELOW THIS LINE\n",
    "\"\"\"\n",
    "tests.test_pick_word(pick_word)"
   ]
  },
  {
   "cell_type": "markdown",
   "metadata": {
    "deletable": true,
    "editable": true
   },
   "source": [
    "## Generate TV Script\n",
    "This will generate the TV script for you.  Set `gen_length` to the length of TV script you want to generate."
   ]
  },
  {
   "cell_type": "code",
   "execution_count": 25,
   "metadata": {
    "collapsed": false,
    "deletable": true,
    "editable": true
   },
   "outputs": [
    {
     "name": "stdout",
     "output_type": "stream",
     "text": [
      "moe_szyslak:(defensive) you got me, homer. you gotta go home and if this is where the fdic can't get out to the\" flaming moe\" here comes in this bar.....(flips through the table) by the one of moe's, bart?\"\n",
      "homer_simpson: and dance, but i am going to do.\n",
      "barney_gumble: yeah, all right. i just got my wife.\n",
      "moe_szyslak:(quietly,) oh, that.(laughs) now you didn't get to spend some way, it's been in.\n",
      "marge_simpson: so, uh, what you been the loser?.... uh, well...(nervous chuckle) oh yeah, and i'm doin' some...(sips real pal)\n",
      "homer_simpson:(singing) hello, glove / so i need to meet my new guy. m. moe, if this cobra solves it.\n",
      "moe_szyslak:... that's how what i have. i gotta do a day to make that... and me just just\n"
     ]
    }
   ],
   "source": [
    "gen_length = 200\n",
    "# homer_simpson, moe_szyslak, or Barney_Gumble\n",
    "prime_word = 'moe_szyslak'\n",
    "\n",
    "\"\"\"\n",
    "DON'T MODIFY ANYTHING IN THIS CELL THAT IS BELOW THIS LINE\n",
    "\"\"\"\n",
    "loaded_graph = tf.Graph()\n",
    "with tf.Session(graph=loaded_graph) as sess:\n",
    "    # Load saved model\n",
    "    loader = tf.train.import_meta_graph(load_dir + '.meta')\n",
    "    loader.restore(sess, load_dir)\n",
    "\n",
    "    # Get Tensors from loaded model\n",
    "    input_text, initial_state, final_state, probs = get_tensors(loaded_graph)\n",
    "\n",
    "    # Sentences generation setup\n",
    "    gen_sentences = [prime_word + ':']\n",
    "    prev_state = sess.run(initial_state, {input_text: np.array([[1]])})\n",
    "\n",
    "    # Generate sentences\n",
    "    for n in range(gen_length):\n",
    "        # Dynamic Input\n",
    "        dyn_input = [[vocab_to_int[word] for word in gen_sentences[-seq_length:]]]\n",
    "        dyn_seq_length = len(dyn_input[0])\n",
    "\n",
    "        # Get Prediction\n",
    "        probabilities, prev_state = sess.run(\n",
    "            [probs, final_state],\n",
    "            {input_text: dyn_input, initial_state: prev_state})\n",
    "        \n",
    "        pred_word = pick_word(probabilities[dyn_seq_length-1], int_to_vocab)\n",
    "\n",
    "        gen_sentences.append(pred_word)\n",
    "    \n",
    "    # Remove tokens\n",
    "    tv_script = ' '.join(gen_sentences)\n",
    "    for key, token in token_dict.items():\n",
    "        ending = ' ' if key in ['\\n', '(', '\"'] else ''\n",
    "        tv_script = tv_script.replace(' ' + token.lower(), key)\n",
    "    tv_script = tv_script.replace('\\n ', '\\n')\n",
    "    tv_script = tv_script.replace('( ', '(')\n",
    "        \n",
    "    print(tv_script)"
   ]
  },
  {
   "cell_type": "markdown",
   "metadata": {
    "deletable": true,
    "editable": true
   },
   "source": [
    "# The TV Script is Nonsensical\n",
    "It's ok if the TV script doesn't make any sense.  We trained on less than a megabyte of text.  In order to get good results, you'll have to use a smaller vocabulary or get more data.  Luckly there's more data!  As we mentioned in the begging of this project, this is a subset of [another dataset](https://www.kaggle.com/wcukierski/the-simpsons-by-the-data).  We didn't have you train on all the data, because that would take too long.  However, you are free to train your neural network on all the data.  After you complete the project, of course.\n",
    "# Submitting This Project\n",
    "When submitting this project, make sure to run all the cells before saving the notebook. Save the notebook file as \"dlnd_tv_script_generation.ipynb\" and save it as a HTML file under \"File\" -> \"Download as\". Include the \"helper.py\" and \"problem_unittests.py\" files in your submission."
   ]
  }
 ],
 "metadata": {
  "anaconda-cloud": {},
  "kernelspec": {
   "display_name": "Python 3",
   "language": "python",
   "name": "python3"
  },
  "language_info": {
   "codemirror_mode": {
    "name": "ipython",
    "version": 3
   },
   "file_extension": ".py",
   "mimetype": "text/x-python",
   "name": "python",
   "nbconvert_exporter": "python",
   "pygments_lexer": "ipython3",
   "version": "3.5.2"
  },
  "widgets": {
   "state": {},
   "version": "1.1.2"
  }
 },
 "nbformat": 4,
 "nbformat_minor": 1
}
