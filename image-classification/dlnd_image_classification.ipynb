{
 "cells": [
  {
   "cell_type": "markdown",
   "metadata": {
    "collapsed": true
   },
   "source": [
    "# Image Classification\n",
    "In this project, you'll classify images from the [CIFAR-10 dataset](https://www.cs.toronto.edu/~kriz/cifar.html).  The dataset consists of airplanes, dogs, cats, and other objects. You'll preprocess the images, then train a convolutional neural network on all the samples. The images need to be normalized and the labels need to be one-hot encoded.  You'll get to apply what you learned and build a convolutional, max pooling, dropout, and fully connected layers.  At the end, you'll get to see your neural network's predictions on the sample images.\n",
    "## Get the Data\n",
    "Run the following cell to download the [CIFAR-10 dataset for python](https://www.cs.toronto.edu/~kriz/cifar-10-python.tar.gz)."
   ]
  },
  {
   "cell_type": "code",
   "execution_count": 178,
   "metadata": {},
   "outputs": [
    {
     "name": "stdout",
     "output_type": "stream",
     "text": [
      "All files found!\n"
     ]
    }
   ],
   "source": [
    "\"\"\"\n",
    "DON'T MODIFY ANYTHING IN THIS CELL THAT IS BELOW THIS LINE\n",
    "\"\"\"\n",
    "from urllib.request import urlretrieve\n",
    "from os.path import isfile, isdir\n",
    "from tqdm import tqdm\n",
    "import problem_unittests as tests\n",
    "import tarfile\n",
    "\n",
    "cifar10_dataset_folder_path = 'cifar-10-batches-py'\n",
    "\n",
    "# Use Floyd's cifar-10 dataset if present\n",
    "floyd_cifar10_location = '/input/cifar-10/python.tar.gz'\n",
    "if isfile(floyd_cifar10_location):\n",
    "    tar_gz_path = floyd_cifar10_location\n",
    "else:\n",
    "    tar_gz_path = 'cifar-10-python.tar.gz'\n",
    "\n",
    "class DLProgress(tqdm):\n",
    "    last_block = 0\n",
    "\n",
    "    def hook(self, block_num=1, block_size=1, total_size=None):\n",
    "        self.total = total_size\n",
    "        self.update((block_num - self.last_block) * block_size)\n",
    "        self.last_block = block_num\n",
    "\n",
    "if not isfile(tar_gz_path):\n",
    "    with DLProgress(unit='B', unit_scale=True, miniters=1, desc='CIFAR-10 Dataset') as pbar:\n",
    "        urlretrieve(\n",
    "            'https://www.cs.toronto.edu/~kriz/cifar-10-python.tar.gz',\n",
    "            tar_gz_path,\n",
    "            pbar.hook)\n",
    "\n",
    "if not isdir(cifar10_dataset_folder_path):\n",
    "    with tarfile.open(tar_gz_path) as tar:\n",
    "        tar.extractall()\n",
    "        tar.close()\n",
    "\n",
    "\n",
    "tests.test_folder_path(cifar10_dataset_folder_path)"
   ]
  },
  {
   "cell_type": "markdown",
   "metadata": {},
   "source": [
    "## Explore the Data\n",
    "The dataset is broken into batches to prevent your machine from running out of memory.  The CIFAR-10 dataset consists of 5 batches, named `data_batch_1`, `data_batch_2`, etc.. Each batch contains the labels and images that are one of the following:\n",
    "* airplane\n",
    "* automobile\n",
    "* bird\n",
    "* cat\n",
    "* deer\n",
    "* dog\n",
    "* frog\n",
    "* horse\n",
    "* ship\n",
    "* truck\n",
    "\n",
    "Understanding a dataset is part of making predictions on the data.  Play around with the code cell below by changing the `batch_id` and `sample_id`. The `batch_id` is the id for a batch (1-5). The `sample_id` is the id for a image and label pair in the batch.\n",
    "\n",
    "Ask yourself \"What are all possible labels?\", \"What is the range of values for the image data?\", \"Are the labels in order or random?\".  Answers to questions like these will help you preprocess the data and end up with better predictions."
   ]
  },
  {
   "cell_type": "code",
   "execution_count": 179,
   "metadata": {},
   "outputs": [
    {
     "name": "stdout",
     "output_type": "stream",
     "text": [
      "\n",
      "Stats of batch 2:\n",
      "Samples: 10000\n",
      "Label Counts: {0: 984, 1: 1007, 2: 1010, 3: 995, 4: 1010, 5: 988, 6: 1008, 7: 1026, 8: 987, 9: 985}\n",
      "First 20 Labels: [1, 6, 6, 8, 8, 3, 4, 6, 0, 6, 0, 3, 6, 6, 5, 4, 8, 3, 2, 6]\n",
      "\n",
      "Example of Image 1:\n",
      "Image - Min Value: 2 Max Value: 247\n",
      "Image - Shape: (32, 32, 3)\n",
      "Label - Label Id: 6 Name: frog\n"
     ]
    },
    {
     "data": {
      "image/png": "[encoded data removed]",
      "text/plain": [
       "<matplotlib.figure.Figure at 0x7fb0c8756ac8>"
      ]
     },
     "metadata": {
      "image/png": {
       "height": 250,
       "width": 253
      }
     },
     "output_type": "display_data"
    }
   ],
   "source": [
    "%matplotlib inline\n",
    "%config InlineBackend.figure_format = 'retina'\n",
    "\n",
    "import helper\n",
    "import numpy as np\n",
    "\n",
    "# Explore the dataset\n",
    "batch_id = 2\n",
    "sample_id = 1\n",
    "helper.display_stats(cifar10_dataset_folder_path, batch_id, sample_id)"
   ]
  },
  {
   "cell_type": "markdown",
   "metadata": {},
   "source": [
    "## Implement Preprocess Functions\n",
    "### Normalize\n",
    "In the cell below, implement the `normalize` function to take in image data, `x`, and return it as a normalized Numpy array. The values should be in the range of 0 to 1, inclusive.  The return object should be the same shape as `x`."
   ]
  },
  {
   "cell_type": "code",
   "execution_count": 180,
   "metadata": {},
   "outputs": [
    {
     "name": "stdout",
     "output_type": "stream",
     "text": [
      "Tests Passed\n"
     ]
    }
   ],
   "source": [
    "def normalize(x):\n",
    "    \"\"\"\n",
    "    Normalize a list of sample image data in the range of 0 to 1\n",
    "    : x: List of image data.  The image shape is (32, 32, 3)\n",
    "    : return: Numpy array of normalize data\n",
    "    \"\"\"\n",
    "    # TODO: Implement Function\n",
    "    #mean = x.mean()    \n",
    "    normalised_x = x/255.0\n",
    "    \n",
    "    return normalised_x\n",
    "\n",
    "\n",
    "\"\"\"\n",
    "DON'T MODIFY ANYTHING IN THIS CELL THAT IS BELOW THIS LINE\n",
    "\"\"\"\n",
    "tests.test_normalize(normalize)"
   ]
  },
  {
   "cell_type": "markdown",
   "metadata": {},
   "source": [
    "### One-hot encode\n",
    "Just like the previous code cell, you'll be implementing a function for preprocessing.  This time, you'll implement the `one_hot_encode` function. The input, `x`, are a list of labels.  Implement the function to return the list of labels as One-Hot encoded Numpy array.  The possible values for labels are 0 to 9. The one-hot encoding function should return the same encoding for each value between each call to `one_hot_encode`.  Make sure to save the map of encodings outside the function.\n",
    "\n",
    "Hint: Don't reinvent the wheel."
   ]
  },
  {
   "cell_type": "code",
   "execution_count": 181,
   "metadata": {},
   "outputs": [
    {
     "name": "stdout",
     "output_type": "stream",
     "text": [
      "Tests Passed\n"
     ]
    }
   ],
   "source": [
    "def one_hot_encode(x):\n",
    "    \"\"\"\n",
    "    One hot encode a list of sample labels. Return a one-hot encoded vector for each label.\n",
    "    : x: List of sample Labels\n",
    "    : return: Numpy array of one-hot encoded labels\n",
    "    \"\"\"\n",
    "    # TODO: Implement Function\n",
    "    rows = len(x)      \n",
    "    onehot_x = np.zeros([rows,10])\n",
    "\n",
    "    for idx,v in  enumerate(x):      \n",
    "        onehot_x[idx][v] = 1\n",
    "        \n",
    "    return onehot_x\n",
    "\n",
    "\n",
    "\"\"\"\n",
    "DON'T MODIFY ANYTHING IN THIS CELL THAT IS BELOW THIS LINE\n",
    "\"\"\"\n",
    "tests.test_one_hot_encode(one_hot_encode)"
   ]
  },
  {
   "cell_type": "markdown",
   "metadata": {},
   "source": [
    "### Randomize Data\n",
    "As you saw from exploring the data above, the order of the samples are randomized.  It doesn't hurt to randomize it again, but you don't need to for this dataset."
   ]
  },
  {
   "cell_type": "markdown",
   "metadata": {},
   "source": [
    "## Preprocess all the data and save it\n",
    "Running the code cell below will preprocess all the CIFAR-10 data and save it to file. The code below also uses 10% of the training data for validation."
   ]
  },
  {
   "cell_type": "code",
   "execution_count": 182,
   "metadata": {
    "collapsed": true
   },
   "outputs": [],
   "source": [
    "\"\"\"\n",
    "DON'T MODIFY ANYTHING IN THIS CELL\n",
    "\"\"\"\n",
    "# Preprocess Training, Validation, and Testing Data\n",
    "helper.preprocess_and_save_data(cifar10_dataset_folder_path, normalize, one_hot_encode)"
   ]
  },
  {
   "cell_type": "markdown",
   "metadata": {},
   "source": [
    "# Check Point\n",
    "This is your first checkpoint.  If you ever decide to come back to this notebook or have to restart the notebook, you can start from here.  The preprocessed data has been saved to disk."
   ]
  },
  {
   "cell_type": "code",
   "execution_count": 183,
   "metadata": {
    "collapsed": true
   },
   "outputs": [],
   "source": [
    "\"\"\"\n",
    "DON'T MODIFY ANYTHING IN THIS CELL\n",
    "\"\"\"\n",
    "import pickle\n",
    "import problem_unittests as tests\n",
    "import helper\n",
    "\n",
    "# Load the Preprocessed Validation data\n",
    "valid_features, valid_labels = pickle.load(open('preprocess_validation.p', mode='rb'))"
   ]
  },
  {
   "cell_type": "markdown",
   "metadata": {},
   "source": [
    "## Build the network\n",
    "For the neural network, you'll build each layer into a function.  Most of the code you've seen has been outside of functions. To test your code more thoroughly, we require that you put each layer in a function.  This allows us to give you better feedback and test for simple mistakes using our unittests before you submit your project.\n",
    "\n",
    ">**Note:** If you're finding it hard to dedicate enough time for this course each week, we've provided a small shortcut to this part of the project. In the next couple of problems, you'll have the option to use classes from the [TensorFlow Layers](https://www.tensorflow.org/api_docs/python/tf/layers) or [TensorFlow Layers (contrib)](https://www.tensorflow.org/api_guides/python/contrib.layers) packages to build each layer, except the layers you build in the \"Convolutional and Max Pooling Layer\" section.  TF Layers is similar to Keras's and TFLearn's abstraction to layers, so it's easy to pickup.\n",
    "\n",
    ">However, if you would like to get the most out of this course, try to solve all the problems _without_ using anything from the TF Layers packages. You **can** still use classes from other packages that happen to have the same name as ones you find in TF Layers! For example, instead of using the TF Layers version of the `conv2d` class, [tf.layers.conv2d](https://www.tensorflow.org/api_docs/python/tf/layers/conv2d), you would want to use the TF Neural Network version of `conv2d`, [tf.nn.conv2d](https://www.tensorflow.org/api_docs/python/tf/nn/conv2d). \n",
    "\n",
    "Let's begin!\n",
    "\n",
    "### Input\n",
    "The neural network needs to read the image data, one-hot encoded labels, and dropout keep probability. Implement the following functions\n",
    "* Implement `neural_net_image_input`\n",
    " * Return a [TF Placeholder](https://www.tensorflow.org/api_docs/python/tf/placeholder)\n",
    " * Set the shape using `image_shape` with batch size set to `None`.\n",
    " * Name the TensorFlow placeholder \"x\" using the TensorFlow `name` parameter in the [TF Placeholder](https://www.tensorflow.org/api_docs/python/tf/placeholder).\n",
    "* Implement `neural_net_label_input`\n",
    " * Return a [TF Placeholder](https://www.tensorflow.org/api_docs/python/tf/placeholder)\n",
    " * Set the shape using `n_classes` with batch size set to `None`.\n",
    " * Name the TensorFlow placeholder \"y\" using the TensorFlow `name` parameter in the [TF Placeholder](https://www.tensorflow.org/api_docs/python/tf/placeholder).\n",
    "* Implement `neural_net_keep_prob_input`\n",
    " * Return a [TF Placeholder](https://www.tensorflow.org/api_docs/python/tf/placeholder) for dropout keep probability.\n",
    " * Name the TensorFlow placeholder \"keep_prob\" using the TensorFlow `name` parameter in the [TF Placeholder](https://www.tensorflow.org/api_docs/python/tf/placeholder).\n",
    "\n",
    "These names will be used at the end of the project to load your saved model.\n",
    "\n",
    "Note: `None` for shapes in TensorFlow allow for a dynamic size."
   ]
  },
  {
   "cell_type": "code",
   "execution_count": 184,
   "metadata": {
    "scrolled": true
   },
   "outputs": [
    {
     "name": "stdout",
     "output_type": "stream",
     "text": [
      "Image Input Tests Passed.\n",
      "Label Input Tests Passed.\n",
      "Keep Prob Tests Passed.\n"
     ]
    }
   ],
   "source": [
    "import tensorflow as tf\n",
    "\n",
    "def neural_net_image_input(image_shape):\n",
    "    \"\"\"\n",
    "    Return a Tensor for a batch of image input\n",
    "    : image_shape: Shape of the images\n",
    "    : return: Tensor for image input.\n",
    "    \"\"\"\n",
    "    # TODO: Implement Function\n",
    "    h = image_shape[0]\n",
    "    w = image_shape[1]\n",
    "    c = image_shape[2]\n",
    "    return tf.placeholder(\"float\", [None, h, w, c], name='x')\n",
    "\n",
    "\n",
    "def neural_net_label_input(n_classes):\n",
    "    \"\"\"\n",
    "    Return a Tensor for a batch of label input\n",
    "    : n_classes: Number of classes\n",
    "    : return: Tensor for label input.\n",
    "    \"\"\"\n",
    "    # TODO: Implement Function\n",
    "        \n",
    "    return tf.placeholder(\"float\", [None, n_classes], name='y')\n",
    "\n",
    "\n",
    "def neural_net_keep_prob_input():\n",
    "    \"\"\"\n",
    "    Return a Tensor for keep probability\n",
    "    : return: Tensor for keep probability.\n",
    "    \"\"\"\n",
    "    # TODO: Implement Function\n",
    "\n",
    "    return tf.placeholder(tf.float32, name='keep_prob')\n",
    "\n",
    "\n",
    "\"\"\"\n",
    "DON'T MODIFY ANYTHING IN THIS CELL THAT IS BELOW THIS LINE\n",
    "\"\"\"\n",
    "tf.reset_default_graph()\n",
    "tests.test_nn_image_inputs(neural_net_image_input)\n",
    "tests.test_nn_label_inputs(neural_net_label_input)\n",
    "tests.test_nn_keep_prob_inputs(neural_net_keep_prob_input)"
   ]
  },
  {
   "cell_type": "markdown",
   "metadata": {},
   "source": [
    "### Convolution and Max Pooling Layer\n",
    "Convolution layers have a lot of success with images. For this code cell, you should implement the function `conv2d_maxpool` to apply convolution then max pooling:\n",
    "* Create the weight and bias using `conv_ksize`, `conv_num_outputs` and the shape of `x_tensor`.\n",
    "* Apply a convolution to `x_tensor` using weight and `conv_strides`.\n",
    " * We recommend you use same padding, but you're welcome to use any padding.\n",
    "* Add bias\n",
    "* Add a nonlinear activation to the convolution.\n",
    "* Apply Max Pooling using `pool_ksize` and `pool_strides`.\n",
    " * We recommend you use same padding, but you're welcome to use any padding.\n",
    "\n",
    "**Note:** You **can't** use [TensorFlow Layers](https://www.tensorflow.org/api_docs/python/tf/layers) or [TensorFlow Layers (contrib)](https://www.tensorflow.org/api_guides/python/contrib.layers) for **this** layer, but you can still use TensorFlow's [Neural Network](https://www.tensorflow.org/api_docs/python/tf/nn) package. You may still use the shortcut option for all the **other** layers."
   ]
  },
  {
   "cell_type": "code",
   "execution_count": 185,
   "metadata": {},
   "outputs": [
    {
     "name": "stdout",
     "output_type": "stream",
     "text": [
      "Tests Passed\n"
     ]
    }
   ],
   "source": [
    "def conv2d_maxpool(x_tensor, conv_num_outputs, conv_ksize, conv_strides, pool_ksize, pool_strides):\n",
    "    \"\"\"\n",
    "    Apply convolution then max pooling to x_tensor\n",
    "    :param x_tensor: TensorFlow Tensor\n",
    "    :param conv_num_outputs: Number of outputs for the convolutional layer\n",
    "    :param conv_ksize: kernal size 2-D Tuple for the convolutional layer\n",
    "    :param conv_strides: Stride 2-D Tuple for convolution\n",
    "    :param pool_ksize: kernal size 2-D Tuple for pool\n",
    "    :param pool_strides: Stride 2-D Tuple for pool\n",
    "    : return: A tensor that represents convolution and max pooling of x_tensor\n",
    "    \"\"\"\n",
    "    # TODO: Implement Function\n",
    "    x_shape = x_tensor.get_shape().as_list()\n",
    "    weights = tf.Variable(tf.truncated_normal([conv_ksize[0], conv_ksize[1], x_shape[3], conv_num_outputs], stddev=0.01))  \n",
    "    bias = tf.Variable(tf.random_normal([conv_num_outputs]))\n",
    "    L = tf.nn.conv2d(x_tensor, weights, strides=[1,conv_strides[0],conv_strides[1], 1],padding='SAME')    \n",
    "    L = tf.nn.bias_add(L, bias)\n",
    "    L = tf.nn.relu(L)  \n",
    "    L = tf.nn.max_pool(L, [1,pool_ksize[0],pool_ksize[1],1], [1,pool_strides[0],pool_strides[1],1],padding='SAME')\n",
    "    \n",
    "    return L \n",
    "\n",
    "\n",
    "\"\"\"\n",
    "DON'T MODIFY ANYTHING IN THIS CELL THAT IS BELOW THIS LINE\n",
    "\"\"\"\n",
    "tests.test_con_pool(conv2d_maxpool)"
   ]
  },
  {
   "cell_type": "markdown",
   "metadata": {},
   "source": [
    "### Flatten Layer\n",
    "Implement the `flatten` function to change the dimension of `x_tensor` from a 4-D tensor to a 2-D tensor.  The output should be the shape (*Batch Size*, *Flattened Image Size*). Shortcut option: you can use classes from the [TensorFlow Layers](https://www.tensorflow.org/api_docs/python/tf/layers) or [TensorFlow Layers (contrib)](https://www.tensorflow.org/api_guides/python/contrib.layers) packages for this layer. For more of a challenge, only use other TensorFlow packages."
   ]
  },
  {
   "cell_type": "code",
   "execution_count": 186,
   "metadata": {},
   "outputs": [
    {
     "name": "stdout",
     "output_type": "stream",
     "text": [
      "Tests Passed\n"
     ]
    }
   ],
   "source": [
    "def flatten(x_tensor):\n",
    "    \"\"\"\n",
    "    Flatten x_tensor to (Batch Size, Flattened Image Size)\n",
    "    : x_tensor: A tensor of size (Batch Size, ...), where ... are the image dimensions.\n",
    "    : return: A tensor of size (Batch Size, Flattened Image Size).\n",
    "    \"\"\"\n",
    "    # TODO: Implement Function\n",
    "    x1 = x_tensor.get_shape()[1].value\n",
    "    x2 = x_tensor.get_shape()[2].value\n",
    "    x3 = x_tensor.get_shape()[3].value\n",
    "    \n",
    "    x_tensor = tf.reshape(x_tensor,[-1, x1*x2*x3 ])\n",
    "    \n",
    "    return x_tensor\n",
    "\n",
    "\n",
    "\"\"\"\n",
    "DON'T MODIFY ANYTHING IN THIS CELL THAT IS BELOW THIS LINE\n",
    "\"\"\"\n",
    "tests.test_flatten(flatten)"
   ]
  },
  {
   "cell_type": "markdown",
   "metadata": {},
   "source": [
    "### Fully-Connected Layer\n",
    "Implement the `fully_conn` function to apply a fully connected layer to `x_tensor` with the shape (*Batch Size*, *num_outputs*). Shortcut option: you can use classes from the [TensorFlow Layers](https://www.tensorflow.org/api_docs/python/tf/layers) or [TensorFlow Layers (contrib)](https://www.tensorflow.org/api_guides/python/contrib.layers) packages for this layer. For more of a challenge, only use other TensorFlow packages."
   ]
  },
  {
   "cell_type": "code",
   "execution_count": 187,
   "metadata": {},
   "outputs": [
    {
     "name": "stdout",
     "output_type": "stream",
     "text": [
      "Tests Passed\n"
     ]
    }
   ],
   "source": [
    "def fully_conn(x_tensor, num_outputs):\n",
    "    \"\"\"\n",
    "    Apply a fully connected layer to x_tensor using weight and bias\n",
    "    : x_tensor: A 2-D tensor where the first dimension is batch size.\n",
    "    : num_outputs: The number of output that the new tensor should be.\n",
    "    : return: A 2-D tensor where the second dimension is num_outputs.\n",
    "    \"\"\"\n",
    "    # TODO: Implement Function\n",
    "    \n",
    "    w = tf.Variable(tf.truncated_normal([x_tensor.get_shape()[1].value, num_outputs], stddev=0.01))\n",
    "    b = tf.Variable(tf.truncated_normal([num_outputs]))\n",
    "    \n",
    "    num_outputs = tf.add(tf.matmul(x_tensor,w),b)\n",
    "    \n",
    "    num_outputs = tf.nn.relu(num_outputs)\n",
    "    \n",
    "    return num_outputs\n",
    "\n",
    "\n",
    "\"\"\"\n",
    "DON'T MODIFY ANYTHING IN THIS CELL THAT IS BELOW THIS LINE\n",
    "\"\"\"\n",
    "tests.test_fully_conn(fully_conn)"
   ]
  },
  {
   "cell_type": "markdown",
   "metadata": {},
   "source": [
    "### Output Layer\n",
    "Implement the `output` function to apply a fully connected layer to `x_tensor` with the shape (*Batch Size*, *num_outputs*). Shortcut option: you can use classes from the [TensorFlow Layers](https://www.tensorflow.org/api_docs/python/tf/layers) or [TensorFlow Layers (contrib)](https://www.tensorflow.org/api_guides/python/contrib.layers) packages for this layer. For more of a challenge, only use other TensorFlow packages.\n",
    "\n",
    "**Note:** Activation, softmax, or cross entropy should **not** be applied to this."
   ]
  },
  {
   "cell_type": "code",
   "execution_count": 188,
   "metadata": {},
   "outputs": [
    {
     "name": "stdout",
     "output_type": "stream",
     "text": [
      "Tests Passed\n"
     ]
    }
   ],
   "source": [
    "def output(x_tensor, num_outputs):\n",
    "    \"\"\"\n",
    "    Apply a output layer to x_tensor using weight and bias\n",
    "    : x_tensor: A 2-D tensor where the first dimension is batch size.\n",
    "    : num_outputs: The number of output that the new tensor should be.\n",
    "    : return: A 2-D tensor where the second dimension is num_outputs.\n",
    "    \"\"\"\n",
    "    # TODO: Implement Function\n",
    "    \n",
    "    w = tf.Variable(tf.truncated_normal([x_tensor.get_shape()[1].value, num_outputs], stddev=0.1))\n",
    "    b = tf.Variable(tf.truncated_normal([num_outputs]))\n",
    "    \n",
    "    num_outputs = tf.add(tf.matmul(x_tensor,w),b)\n",
    "    \n",
    "    return num_outputs\n",
    "\n",
    "\n",
    "\"\"\"\n",
    "DON'T MODIFY ANYTHING IN THIS CELL THAT IS BELOW THIS LINE\n",
    "\"\"\"\n",
    "tests.test_output(output)"
   ]
  },
  {
   "cell_type": "markdown",
   "metadata": {},
   "source": [
    "### Create Convolutional Model\n",
    "Implement the function `conv_net` to create a convolutional neural network model. The function takes in a batch of images, `x`, and outputs logits.  Use the layers you created above to create this model:\n",
    "\n",
    "* Apply 1, 2, or 3 Convolution and Max Pool layers\n",
    "* Apply a Flatten Layer\n",
    "* Apply 1, 2, or 3 Fully Connected Layers\n",
    "* Apply an Output Layer\n",
    "* Return the output\n",
    "* Apply [TensorFlow's Dropout](https://www.tensorflow.org/api_docs/python/tf/nn/dropout) to one or more layers in the model using `keep_prob`. "
   ]
  },
  {
   "cell_type": "code",
   "execution_count": 189,
   "metadata": {
    "scrolled": true
   },
   "outputs": [
    {
     "name": "stdout",
     "output_type": "stream",
     "text": [
      "Neural Network Built!\n"
     ]
    }
   ],
   "source": [
    "def conv_net(x, keep_prob):\n",
    "    \"\"\"\n",
    "    Create a convolutional neural network model\n",
    "    : x: Placeholder tensor that holds image data.\n",
    "    : keep_prob: Placeholder tensor that hold dropout keep probability.\n",
    "    : return: Tensor that represents logits\n",
    "    \"\"\"\n",
    "    # TODO: Apply 1, 2, or 3 Convolution and Max Pool layers\n",
    "    #    Play around with different number of outputs, kernel size and stride\n",
    "    # Function Definition from Above:\n",
    "    #    conv2d_maxpool(x_tensor, conv_num_outputs, conv_ksize, conv_strides, pool_ksize, pool_strides)\n",
    "    \n",
    "    conv1 = conv2d_maxpool(x,32,(3,3),(1,1),(2,2),(2,2))\n",
    "    conv2 = conv2d_maxpool(conv1,64,(3,3),(1,1),(2,2),(2,2))\n",
    "    conv3 = conv2d_maxpool(conv2,128,(3,3),(1,1),(2,2),(2,2))\n",
    "    \n",
    "    # TODO: Apply a Flatten Layer\n",
    "    # Function Definition from Above:\n",
    "    #   flatten(x_tensor)\n",
    "    fc = flatten(conv3)\n",
    "\n",
    "    # TODO: Apply 1, 2, or 3 Fully Connected Layers\n",
    "    #    Play around with different number of outputs\n",
    "    # Function Definition from Above:\n",
    "    #   fully_conn(x_tensor, num_outputs)\n",
    "    fc1 = fully_conn(fc, 2048)\n",
    "    fc1 = tf.nn.dropout(fc1, keep_prob)\n",
    "    fc2 = fully_conn(fc1, 1024)\n",
    "\n",
    "    \n",
    "    # TODO: Apply an Output Layer\n",
    "    #    Set this to the number of classes\n",
    "    # Function Definition from Above:\n",
    "    #   output(x_tensor, num_outputs)\n",
    "    output_x = output(fc2, 10)\n",
    "    \n",
    "    # TODO: return output\n",
    "    return output_x\n",
    "\n",
    "\n",
    "\"\"\"\n",
    "DON'T MODIFY ANYTHING IN THIS CELL THAT IS BELOW THIS LINE\n",
    "\"\"\"\n",
    "\n",
    "##############################\n",
    "## Build the Neural Network ##\n",
    "##############################\n",
    "\n",
    "# Remove previous weights, bias, inputs, etc..\n",
    "tf.reset_default_graph()\n",
    "\n",
    "# Inputs\n",
    "x = neural_net_image_input((32, 32, 3))\n",
    "y = neural_net_label_input(10)\n",
    "keep_prob = neural_net_keep_prob_input()\n",
    "\n",
    "# Model\n",
    "logits = conv_net(x, keep_prob)\n",
    "\n",
    "# Name logits Tensor, so that is can be loaded from disk after training\n",
    "logits = tf.identity(logits, name='logits')\n",
    "\n",
    "# Loss and Optimizer\n",
    "cost = tf.reduce_mean(tf.nn.softmax_cross_entropy_with_logits(logits=logits, labels=y))\n",
    "optimizer = tf.train.AdamOptimizer().minimize(cost)\n",
    "\n",
    "# Accuracy\n",
    "correct_pred = tf.equal(tf.argmax(logits, 1), tf.argmax(y, 1))\n",
    "accuracy = tf.reduce_mean(tf.cast(correct_pred, tf.float32), name='accuracy')\n",
    "\n",
    "tests.test_conv_net(conv_net)"
   ]
  },
  {
   "cell_type": "markdown",
   "metadata": {},
   "source": [
    "## Train the Neural Network\n",
    "### Single Optimization\n",
    "Implement the function `train_neural_network` to do a single optimization.  The optimization should use `optimizer` to optimize in `session` with a `feed_dict` of the following:\n",
    "* `x` for image input\n",
    "* `y` for labels\n",
    "* `keep_prob` for keep probability for dropout\n",
    "\n",
    "This function will be called for each batch, so `tf.global_variables_initializer()` has already been called.\n",
    "\n",
    "Note: Nothing needs to be returned. This function is only optimizing the neural network."
   ]
  },
  {
   "cell_type": "code",
   "execution_count": 190,
   "metadata": {},
   "outputs": [
    {
     "name": "stdout",
     "output_type": "stream",
     "text": [
      "Tests Passed\n"
     ]
    }
   ],
   "source": [
    "def train_neural_network(session, optimizer, keep_probability, feature_batch, label_batch):\n",
    "    \"\"\"\n",
    "    Optimize the session on a batch of images and labels\n",
    "    : session: Current TensorFlow session\n",
    "    : optimizer: TensorFlow optimizer function\n",
    "    : keep_probability: keep probability\n",
    "    : feature_batch: Batch of Numpy image data\n",
    "    : label_batch: Batch of Numpy label data\n",
    "    \"\"\"\n",
    "    # TODO: Implement Function\n",
    "    \n",
    "    session.run(optimizer, feed_dict ={ keep_prob:keep_probability, x:feature_batch, y:label_batch})\n",
    "    \n",
    "    pass\n",
    "\n",
    "\n",
    "\"\"\"\n",
    "DON'T MODIFY ANYTHING IN THIS CELL THAT IS BELOW THIS LINE\n",
    "\"\"\"\n",
    "tests.test_train_nn(train_neural_network)"
   ]
  },
  {
   "cell_type": "markdown",
   "metadata": {},
   "source": [
    "### Show Stats\n",
    "Implement the function `print_stats` to print loss and validation accuracy.  Use the global variables `valid_features` and `valid_labels` to calculate validation accuracy.  Use a keep probability of `1.0` to calculate the loss and validation accuracy."
   ]
  },
  {
   "cell_type": "code",
   "execution_count": 194,
   "metadata": {
    "collapsed": true
   },
   "outputs": [],
   "source": [
    "def print_stats(session, feature_batch, label_batch, cost, accuracy):\n",
    "    \"\"\"\n",
    "    Print information about loss and validation accuracy\n",
    "    : session: Current TensorFlow session\n",
    "    : feature_batch: Batch of Numpy image data\n",
    "    : label_batch: Batch of Numpy label data\n",
    "    : cost: TensorFlow cost function\n",
    "    : accuracy: TensorFlow accuracy function\n",
    "    \"\"\"\n",
    "    # TODO: Implement Function\n",
    "    #print(session)\n",
    "    \n",
    "    loss = sess.run(cost, feed_dict={\n",
    "               x: feature_batch,\n",
    "               y: label_batch,\n",
    "               keep_prob: 1.0})\n",
    "    valid_acc = sess.run(accuracy, feed_dict={\n",
    "               x: valid_features,\n",
    "               y: valid_labels,\n",
    "               keep_prob: 1.0})\n",
    "    \n",
    "    print('Loss: {:>10.4f} Validation Accuracy: {:.6f}'.format(loss, valid_acc))\n",
    "    \n",
    "    pass"
   ]
  },
  {
   "cell_type": "markdown",
   "metadata": {},
   "source": [
    "### Hyperparameters\n",
    "Tune the following parameters:\n",
    "* Set `epochs` to the number of iterations until the network stops learning or start overfitting\n",
    "* Set `batch_size` to the highest number that your machine has memory for.  Most people set them to common sizes of memory:\n",
    " * 64\n",
    " * 128\n",
    " * 256\n",
    " * ...\n",
    "* Set `keep_probability` to the probability of keeping a node using dropout"
   ]
  },
  {
   "cell_type": "code",
   "execution_count": 195,
   "metadata": {
    "collapsed": true
   },
   "outputs": [],
   "source": [
    "# TODO: Tune Parameters\n",
    "epochs = 50\n",
    "batch_size = 300\n",
    "keep_probability = 0.5"
   ]
  },
  {
   "cell_type": "markdown",
   "metadata": {},
   "source": [
    "### Train on a Single CIFAR-10 Batch\n",
    "Instead of training the neural network on all the CIFAR-10 batches of data, let's use a single batch. This should save time while you iterate on the model to get a better accuracy.  Once the final validation accuracy is 50% or greater, run the model on all the data in the next section."
   ]
  },
  {
   "cell_type": "code",
   "execution_count": 196,
   "metadata": {
    "scrolled": true
   },
   "outputs": [
    {
     "name": "stdout",
     "output_type": "stream",
     "text": [
      "Checking the Training on a Single Batch...\n",
      "Epoch  1, CIFAR-10 Batch 1:  Loss:     2.3165 Validation Accuracy: 0.097800\n",
      "Epoch  2, CIFAR-10 Batch 1:  Loss:     2.3079 Validation Accuracy: 0.106800\n",
      "Epoch  3, CIFAR-10 Batch 1:  Loss:     2.2986 Validation Accuracy: 0.101000\n",
      "Epoch  4, CIFAR-10 Batch 1:  Loss:     2.1625 Validation Accuracy: 0.181600\n",
      "Epoch  5, CIFAR-10 Batch 1:  Loss:     2.0968 Validation Accuracy: 0.210000\n",
      "Epoch  6, CIFAR-10 Batch 1:  Loss:     2.0633 Validation Accuracy: 0.231400\n",
      "Epoch  7, CIFAR-10 Batch 1:  Loss:     2.0350 Validation Accuracy: 0.236200\n",
      "Epoch  8, CIFAR-10 Batch 1:  Loss:     2.0463 Validation Accuracy: 0.261400\n",
      "Epoch  9, CIFAR-10 Batch 1:  Loss:     2.0209 Validation Accuracy: 0.266400\n",
      "Epoch 10, CIFAR-10 Batch 1:  Loss:     1.9996 Validation Accuracy: 0.274000\n",
      "Epoch 11, CIFAR-10 Batch 1:  Loss:     1.9689 Validation Accuracy: 0.276400\n",
      "Epoch 12, CIFAR-10 Batch 1:  Loss:     1.8774 Validation Accuracy: 0.310000\n",
      "Epoch 13, CIFAR-10 Batch 1:  Loss:     1.8275 Validation Accuracy: 0.341200\n",
      "Epoch 14, CIFAR-10 Batch 1:  Loss:     1.8244 Validation Accuracy: 0.356800\n",
      "Epoch 15, CIFAR-10 Batch 1:  Loss:     1.7745 Validation Accuracy: 0.366400\n",
      "Epoch 16, CIFAR-10 Batch 1:  Loss:     1.7734 Validation Accuracy: 0.368000\n",
      "Epoch 17, CIFAR-10 Batch 1:  Loss:     1.7739 Validation Accuracy: 0.361600\n",
      "Epoch 18, CIFAR-10 Batch 1:  Loss:     1.7510 Validation Accuracy: 0.374400\n",
      "Epoch 19, CIFAR-10 Batch 1:  Loss:     1.6953 Validation Accuracy: 0.397600\n",
      "Epoch 20, CIFAR-10 Batch 1:  Loss:     1.6686 Validation Accuracy: 0.405400\n",
      "Epoch 21, CIFAR-10 Batch 1:  Loss:     1.6623 Validation Accuracy: 0.404000\n",
      "Epoch 22, CIFAR-10 Batch 1:  Loss:     1.6260 Validation Accuracy: 0.415200\n",
      "Epoch 23, CIFAR-10 Batch 1:  Loss:     1.6254 Validation Accuracy: 0.406600\n",
      "Epoch 24, CIFAR-10 Batch 1:  Loss:     1.5965 Validation Accuracy: 0.421400\n",
      "Epoch 25, CIFAR-10 Batch 1:  Loss:     1.5376 Validation Accuracy: 0.437000\n",
      "Epoch 26, CIFAR-10 Batch 1:  Loss:     1.5591 Validation Accuracy: 0.424400\n",
      "Epoch 27, CIFAR-10 Batch 1:  Loss:     1.5154 Validation Accuracy: 0.441200\n",
      "Epoch 28, CIFAR-10 Batch 1:  Loss:     1.4507 Validation Accuracy: 0.451200\n",
      "Epoch 29, CIFAR-10 Batch 1:  Loss:     1.3965 Validation Accuracy: 0.458600\n",
      "Epoch 30, CIFAR-10 Batch 1:  Loss:     1.3765 Validation Accuracy: 0.461200\n",
      "Epoch 31, CIFAR-10 Batch 1:  Loss:     1.3223 Validation Accuracy: 0.468400\n",
      "Epoch 32, CIFAR-10 Batch 1:  Loss:     1.3274 Validation Accuracy: 0.462600\n",
      "Epoch 33, CIFAR-10 Batch 1:  Loss:     1.2677 Validation Accuracy: 0.471600\n",
      "Epoch 34, CIFAR-10 Batch 1:  Loss:     1.2192 Validation Accuracy: 0.483800\n",
      "Epoch 35, CIFAR-10 Batch 1:  Loss:     1.1919 Validation Accuracy: 0.486600\n",
      "Epoch 36, CIFAR-10 Batch 1:  Loss:     1.1630 Validation Accuracy: 0.481200\n",
      "Epoch 37, CIFAR-10 Batch 1:  Loss:     1.1473 Validation Accuracy: 0.488800\n",
      "Epoch 38, CIFAR-10 Batch 1:  Loss:     1.1135 Validation Accuracy: 0.493200\n",
      "Epoch 39, CIFAR-10 Batch 1:  Loss:     1.0677 Validation Accuracy: 0.486400\n",
      "Epoch 40, CIFAR-10 Batch 1:  Loss:     1.0517 Validation Accuracy: 0.503400\n",
      "Epoch 41, CIFAR-10 Batch 1:  Loss:     1.0085 Validation Accuracy: 0.503600\n",
      "Epoch 42, CIFAR-10 Batch 1:  Loss:     0.9682 Validation Accuracy: 0.508000\n",
      "Epoch 43, CIFAR-10 Batch 1:  Loss:     0.9491 Validation Accuracy: 0.499200\n",
      "Epoch 44, CIFAR-10 Batch 1:  Loss:     0.9235 Validation Accuracy: 0.492800\n",
      "Epoch 45, CIFAR-10 Batch 1:  Loss:     0.9848 Validation Accuracy: 0.480000\n",
      "Epoch 46, CIFAR-10 Batch 1:  Loss:     0.8832 Validation Accuracy: 0.490400\n",
      "Epoch 47, CIFAR-10 Batch 1:  Loss:     0.8054 Validation Accuracy: 0.504200\n",
      "Epoch 48, CIFAR-10 Batch 1:  Loss:     0.7369 Validation Accuracy: 0.502600\n",
      "Epoch 49, CIFAR-10 Batch 1:  Loss:     0.6766 Validation Accuracy: 0.509400\n",
      "Epoch 50, CIFAR-10 Batch 1:  Loss:     0.6552 Validation Accuracy: 0.516000\n"
     ]
    }
   ],
   "source": [
    "\"\"\"\n",
    "DON'T MODIFY ANYTHING IN THIS CELL\n",
    "\"\"\"\n",
    "print('Checking the Training on a Single Batch...')\n",
    "with tf.Session() as sess:\n",
    "        with tf.device(\"gpu:2\"):\n",
    "            # Initializing the variables\n",
    "            sess.run(tf.global_variables_initializer())\n",
    "            # Training cycle\n",
    "            for epoch in range(epochs):\n",
    "                batch_i = 1\n",
    "                for batch_features, batch_labels in helper.load_preprocess_training_batch(batch_i, batch_size):\n",
    "                    train_neural_network(sess, optimizer, keep_probability, batch_features, batch_labels)\n",
    "                print('Epoch {:>2}, CIFAR-10 Batch {}:  '.format(epoch + 1, batch_i), end='')\n",
    "                print_stats(sess, batch_features, batch_labels, cost, accuracy)"
   ]
  },
  {
   "cell_type": "markdown",
   "metadata": {},
   "source": [
    "### Fully Train the Model\n",
    "Now that you got a good accuracy with a single CIFAR-10 batch, try it with all five batches."
   ]
  },
  {
   "cell_type": "code",
   "execution_count": 197,
   "metadata": {},
   "outputs": [
    {
     "name": "stdout",
     "output_type": "stream",
     "text": [
      "Training...\n",
      "Epoch  1, CIFAR-10 Batch 1:  Loss:     2.3141 Validation Accuracy: 0.097800\n",
      "Epoch  1, CIFAR-10 Batch 2:  Loss:     2.2997 Validation Accuracy: 0.094200\n",
      "Epoch  1, CIFAR-10 Batch 3:  Loss:     2.3008 Validation Accuracy: 0.094600\n",
      "Epoch  1, CIFAR-10 Batch 4:  Loss:     2.2877 Validation Accuracy: 0.134400\n",
      "Epoch  1, CIFAR-10 Batch 5:  Loss:     2.1102 Validation Accuracy: 0.216400\n",
      "Epoch  2, CIFAR-10 Batch 1:  Loss:     2.0816 Validation Accuracy: 0.220000\n",
      "Epoch  2, CIFAR-10 Batch 2:  Loss:     2.0239 Validation Accuracy: 0.241400\n",
      "Epoch  2, CIFAR-10 Batch 3:  Loss:     1.9634 Validation Accuracy: 0.231600\n",
      "Epoch  2, CIFAR-10 Batch 4:  Loss:     1.9316 Validation Accuracy: 0.256200\n",
      "Epoch  2, CIFAR-10 Batch 5:  Loss:     1.9795 Validation Accuracy: 0.272000\n",
      "Epoch  3, CIFAR-10 Batch 1:  Loss:     2.0079 Validation Accuracy: 0.258800\n",
      "Epoch  3, CIFAR-10 Batch 2:  Loss:     1.9115 Validation Accuracy: 0.279800\n",
      "Epoch  3, CIFAR-10 Batch 3:  Loss:     1.8117 Validation Accuracy: 0.296400\n",
      "Epoch  3, CIFAR-10 Batch 4:  Loss:     1.7218 Validation Accuracy: 0.327200\n",
      "Epoch  3, CIFAR-10 Batch 5:  Loss:     1.7822 Validation Accuracy: 0.343800\n",
      "Epoch  4, CIFAR-10 Batch 1:  Loss:     1.8108 Validation Accuracy: 0.366600\n",
      "Epoch  4, CIFAR-10 Batch 2:  Loss:     1.6920 Validation Accuracy: 0.361800\n",
      "Epoch  4, CIFAR-10 Batch 3:  Loss:     1.5660 Validation Accuracy: 0.369200\n",
      "Epoch  4, CIFAR-10 Batch 4:  Loss:     1.5645 Validation Accuracy: 0.396800\n",
      "Epoch  4, CIFAR-10 Batch 5:  Loss:     1.6533 Validation Accuracy: 0.393600\n",
      "Epoch  5, CIFAR-10 Batch 1:  Loss:     1.7201 Validation Accuracy: 0.414200\n",
      "Epoch  5, CIFAR-10 Batch 2:  Loss:     1.5503 Validation Accuracy: 0.403400\n",
      "Epoch  5, CIFAR-10 Batch 3:  Loss:     1.4572 Validation Accuracy: 0.401400\n",
      "Epoch  5, CIFAR-10 Batch 4:  Loss:     1.4986 Validation Accuracy: 0.418200\n",
      "Epoch  5, CIFAR-10 Batch 5:  Loss:     1.5672 Validation Accuracy: 0.428600\n",
      "Epoch  6, CIFAR-10 Batch 1:  Loss:     1.6492 Validation Accuracy: 0.432800\n",
      "Epoch  6, CIFAR-10 Batch 2:  Loss:     1.5040 Validation Accuracy: 0.420200\n",
      "Epoch  6, CIFAR-10 Batch 3:  Loss:     1.3721 Validation Accuracy: 0.435600\n",
      "Epoch  6, CIFAR-10 Batch 4:  Loss:     1.3939 Validation Accuracy: 0.459400\n",
      "Epoch  6, CIFAR-10 Batch 5:  Loss:     1.4979 Validation Accuracy: 0.450800\n",
      "Epoch  7, CIFAR-10 Batch 1:  Loss:     1.5343 Validation Accuracy: 0.473000\n",
      "Epoch  7, CIFAR-10 Batch 2:  Loss:     1.4412 Validation Accuracy: 0.455800\n",
      "Epoch  7, CIFAR-10 Batch 3:  Loss:     1.3025 Validation Accuracy: 0.462800\n",
      "Epoch  7, CIFAR-10 Batch 4:  Loss:     1.3203 Validation Accuracy: 0.474600\n",
      "Epoch  7, CIFAR-10 Batch 5:  Loss:     1.4327 Validation Accuracy: 0.468800\n",
      "Epoch  8, CIFAR-10 Batch 1:  Loss:     1.4643 Validation Accuracy: 0.474600\n",
      "Epoch  8, CIFAR-10 Batch 2:  Loss:     1.3532 Validation Accuracy: 0.482600\n",
      "Epoch  8, CIFAR-10 Batch 3:  Loss:     1.2437 Validation Accuracy: 0.483000\n",
      "Epoch  8, CIFAR-10 Batch 4:  Loss:     1.2520 Validation Accuracy: 0.494600\n",
      "Epoch  8, CIFAR-10 Batch 5:  Loss:     1.3311 Validation Accuracy: 0.496600\n",
      "Epoch  9, CIFAR-10 Batch 1:  Loss:     1.4170 Validation Accuracy: 0.492800\n",
      "Epoch  9, CIFAR-10 Batch 2:  Loss:     1.2917 Validation Accuracy: 0.505800\n",
      "Epoch  9, CIFAR-10 Batch 3:  Loss:     1.1962 Validation Accuracy: 0.487600\n",
      "Epoch  9, CIFAR-10 Batch 4:  Loss:     1.1761 Validation Accuracy: 0.526000\n",
      "Epoch  9, CIFAR-10 Batch 5:  Loss:     1.3051 Validation Accuracy: 0.510600\n",
      "Epoch 10, CIFAR-10 Batch 1:  Loss:     1.3083 Validation Accuracy: 0.515000\n",
      "Epoch 10, CIFAR-10 Batch 2:  Loss:     1.2650 Validation Accuracy: 0.514000\n",
      "Epoch 10, CIFAR-10 Batch 3:  Loss:     1.1169 Validation Accuracy: 0.513000\n",
      "Epoch 10, CIFAR-10 Batch 4:  Loss:     1.1322 Validation Accuracy: 0.527600\n",
      "Epoch 10, CIFAR-10 Batch 5:  Loss:     1.2610 Validation Accuracy: 0.526200\n",
      "Epoch 11, CIFAR-10 Batch 1:  Loss:     1.2703 Validation Accuracy: 0.530400\n",
      "Epoch 11, CIFAR-10 Batch 2:  Loss:     1.1856 Validation Accuracy: 0.536600\n",
      "Epoch 11, CIFAR-10 Batch 3:  Loss:     1.0663 Validation Accuracy: 0.540200\n",
      "Epoch 11, CIFAR-10 Batch 4:  Loss:     1.0743 Validation Accuracy: 0.548800\n",
      "Epoch 11, CIFAR-10 Batch 5:  Loss:     1.1698 Validation Accuracy: 0.545000\n",
      "Epoch 12, CIFAR-10 Batch 1:  Loss:     1.2603 Validation Accuracy: 0.537000\n",
      "Epoch 12, CIFAR-10 Batch 2:  Loss:     1.1397 Validation Accuracy: 0.550200\n",
      "Epoch 12, CIFAR-10 Batch 3:  Loss:     1.0026 Validation Accuracy: 0.559600\n",
      "Epoch 12, CIFAR-10 Batch 4:  Loss:     1.0116 Validation Accuracy: 0.564800\n",
      "Epoch 12, CIFAR-10 Batch 5:  Loss:     1.1199 Validation Accuracy: 0.553600\n",
      "Epoch 13, CIFAR-10 Batch 1:  Loss:     1.2012 Validation Accuracy: 0.551600\n",
      "Epoch 13, CIFAR-10 Batch 2:  Loss:     1.1013 Validation Accuracy: 0.560800\n",
      "Epoch 13, CIFAR-10 Batch 3:  Loss:     0.9800 Validation Accuracy: 0.571000\n",
      "Epoch 13, CIFAR-10 Batch 4:  Loss:     0.9607 Validation Accuracy: 0.575400\n",
      "Epoch 13, CIFAR-10 Batch 5:  Loss:     1.1008 Validation Accuracy: 0.568000\n",
      "Epoch 14, CIFAR-10 Batch 1:  Loss:     1.1769 Validation Accuracy: 0.550600\n",
      "Epoch 14, CIFAR-10 Batch 2:  Loss:     1.0627 Validation Accuracy: 0.566600\n",
      "Epoch 14, CIFAR-10 Batch 3:  Loss:     0.9603 Validation Accuracy: 0.576400\n",
      "Epoch 14, CIFAR-10 Batch 4:  Loss:     0.9333 Validation Accuracy: 0.579000\n",
      "Epoch 14, CIFAR-10 Batch 5:  Loss:     1.0486 Validation Accuracy: 0.585600\n",
      "Epoch 15, CIFAR-10 Batch 1:  Loss:     1.1320 Validation Accuracy: 0.569000\n",
      "Epoch 15, CIFAR-10 Batch 2:  Loss:     1.0350 Validation Accuracy: 0.563600\n",
      "Epoch 15, CIFAR-10 Batch 3:  Loss:     0.9182 Validation Accuracy: 0.578600\n",
      "Epoch 15, CIFAR-10 Batch 4:  Loss:     0.8523 Validation Accuracy: 0.595800\n",
      "Epoch 15, CIFAR-10 Batch 5:  Loss:     1.0014 Validation Accuracy: 0.589000\n",
      "Epoch 16, CIFAR-10 Batch 1:  Loss:     1.0858 Validation Accuracy: 0.587000\n",
      "Epoch 16, CIFAR-10 Batch 2:  Loss:     0.9684 Validation Accuracy: 0.588000\n",
      "Epoch 16, CIFAR-10 Batch 3:  Loss:     0.8589 Validation Accuracy: 0.593800\n",
      "Epoch 16, CIFAR-10 Batch 4:  Loss:     0.8381 Validation Accuracy: 0.596400\n",
      "Epoch 16, CIFAR-10 Batch 5:  Loss:     0.9804 Validation Accuracy: 0.594600\n",
      "Epoch 17, CIFAR-10 Batch 1:  Loss:     1.0227 Validation Accuracy: 0.596200\n",
      "Epoch 17, CIFAR-10 Batch 2:  Loss:     0.9376 Validation Accuracy: 0.596000\n",
      "Epoch 17, CIFAR-10 Batch 3:  Loss:     0.8593 Validation Accuracy: 0.605000\n",
      "Epoch 17, CIFAR-10 Batch 4:  Loss:     0.7888 Validation Accuracy: 0.605600\n",
      "Epoch 17, CIFAR-10 Batch 5:  Loss:     0.9267 Validation Accuracy: 0.604200\n",
      "Epoch 18, CIFAR-10 Batch 1:  Loss:     0.9698 Validation Accuracy: 0.603800\n",
      "Epoch 18, CIFAR-10 Batch 2:  Loss:     0.9068 Validation Accuracy: 0.594400\n",
      "Epoch 18, CIFAR-10 Batch 3:  Loss:     0.7759 Validation Accuracy: 0.609800\n",
      "Epoch 18, CIFAR-10 Batch 4:  Loss:     0.7348 Validation Accuracy: 0.612000\n",
      "Epoch 18, CIFAR-10 Batch 5:  Loss:     0.9208 Validation Accuracy: 0.601400\n",
      "Epoch 19, CIFAR-10 Batch 1:  Loss:     0.9482 Validation Accuracy: 0.601600\n",
      "Epoch 19, CIFAR-10 Batch 2:  Loss:     0.8520 Validation Accuracy: 0.611800\n",
      "Epoch 19, CIFAR-10 Batch 3:  Loss:     0.7336 Validation Accuracy: 0.619800\n",
      "Epoch 19, CIFAR-10 Batch 4:  Loss:     0.7273 Validation Accuracy: 0.612600\n",
      "Epoch 19, CIFAR-10 Batch 5:  Loss:     0.8635 Validation Accuracy: 0.614000\n",
      "Epoch 20, CIFAR-10 Batch 1:  Loss:     0.9047 Validation Accuracy: 0.617800\n",
      "Epoch 20, CIFAR-10 Batch 2:  Loss:     0.8303 Validation Accuracy: 0.611600\n",
      "Epoch 20, CIFAR-10 Batch 3:  Loss:     0.7477 Validation Accuracy: 0.613600\n",
      "Epoch 20, CIFAR-10 Batch 4:  Loss:     0.6792 Validation Accuracy: 0.622400\n",
      "Epoch 20, CIFAR-10 Batch 5:  Loss:     0.8236 Validation Accuracy: 0.615400\n",
      "Epoch 21, CIFAR-10 Batch 1:  Loss:     0.8656 Validation Accuracy: 0.618400\n",
      "Epoch 21, CIFAR-10 Batch 2:  Loss:     0.8379 Validation Accuracy: 0.612200\n",
      "Epoch 21, CIFAR-10 Batch 3:  Loss:     0.7175 Validation Accuracy: 0.612400\n",
      "Epoch 21, CIFAR-10 Batch 4:  Loss:     0.6226 Validation Accuracy: 0.628000\n",
      "Epoch 21, CIFAR-10 Batch 5:  Loss:     0.7630 Validation Accuracy: 0.619800\n",
      "Epoch 22, CIFAR-10 Batch 1:  Loss:     0.8202 Validation Accuracy: 0.627600\n",
      "Epoch 22, CIFAR-10 Batch 2:  Loss:     0.7753 Validation Accuracy: 0.624600\n",
      "Epoch 22, CIFAR-10 Batch 3:  Loss:     0.6821 Validation Accuracy: 0.617400\n"
     ]
    },
    {
     "name": "stdout",
     "output_type": "stream",
     "text": [
      "Epoch 22, CIFAR-10 Batch 4:  Loss:     0.5890 Validation Accuracy: 0.628000\n",
      "Epoch 22, CIFAR-10 Batch 5:  Loss:     0.7546 Validation Accuracy: 0.617400\n",
      "Epoch 23, CIFAR-10 Batch 1:  Loss:     0.8026 Validation Accuracy: 0.631800\n",
      "Epoch 23, CIFAR-10 Batch 2:  Loss:     0.8002 Validation Accuracy: 0.620400\n",
      "Epoch 23, CIFAR-10 Batch 3:  Loss:     0.6540 Validation Accuracy: 0.624400\n",
      "Epoch 23, CIFAR-10 Batch 4:  Loss:     0.5992 Validation Accuracy: 0.632800\n",
      "Epoch 23, CIFAR-10 Batch 5:  Loss:     0.7209 Validation Accuracy: 0.614800\n",
      "Epoch 24, CIFAR-10 Batch 1:  Loss:     0.7972 Validation Accuracy: 0.626200\n",
      "Epoch 24, CIFAR-10 Batch 2:  Loss:     0.7711 Validation Accuracy: 0.613200\n",
      "Epoch 24, CIFAR-10 Batch 3:  Loss:     0.6299 Validation Accuracy: 0.615800\n",
      "Epoch 24, CIFAR-10 Batch 4:  Loss:     0.5438 Validation Accuracy: 0.637600\n",
      "Epoch 24, CIFAR-10 Batch 5:  Loss:     0.7235 Validation Accuracy: 0.627800\n",
      "Epoch 25, CIFAR-10 Batch 1:  Loss:     0.7408 Validation Accuracy: 0.631600\n",
      "Epoch 25, CIFAR-10 Batch 2:  Loss:     0.7079 Validation Accuracy: 0.623600\n",
      "Epoch 25, CIFAR-10 Batch 3:  Loss:     0.6126 Validation Accuracy: 0.623800\n",
      "Epoch 25, CIFAR-10 Batch 4:  Loss:     0.5163 Validation Accuracy: 0.639200\n",
      "Epoch 25, CIFAR-10 Batch 5:  Loss:     0.6467 Validation Accuracy: 0.631600\n",
      "Epoch 26, CIFAR-10 Batch 1:  Loss:     0.7127 Validation Accuracy: 0.634800\n",
      "Epoch 26, CIFAR-10 Batch 2:  Loss:     0.6593 Validation Accuracy: 0.635600\n",
      "Epoch 26, CIFAR-10 Batch 3:  Loss:     0.5711 Validation Accuracy: 0.614200\n",
      "Epoch 26, CIFAR-10 Batch 4:  Loss:     0.5102 Validation Accuracy: 0.636600\n",
      "Epoch 26, CIFAR-10 Batch 5:  Loss:     0.6340 Validation Accuracy: 0.634000\n",
      "Epoch 27, CIFAR-10 Batch 1:  Loss:     0.6793 Validation Accuracy: 0.625800\n",
      "Epoch 27, CIFAR-10 Batch 2:  Loss:     0.6110 Validation Accuracy: 0.637800\n",
      "Epoch 27, CIFAR-10 Batch 3:  Loss:     0.5155 Validation Accuracy: 0.621800\n",
      "Epoch 27, CIFAR-10 Batch 4:  Loss:     0.4710 Validation Accuracy: 0.624600\n",
      "Epoch 27, CIFAR-10 Batch 5:  Loss:     0.5626 Validation Accuracy: 0.637200\n",
      "Epoch 28, CIFAR-10 Batch 1:  Loss:     0.6581 Validation Accuracy: 0.621800\n",
      "Epoch 28, CIFAR-10 Batch 2:  Loss:     0.6037 Validation Accuracy: 0.634400\n",
      "Epoch 28, CIFAR-10 Batch 3:  Loss:     0.5149 Validation Accuracy: 0.615400\n",
      "Epoch 28, CIFAR-10 Batch 4:  Loss:     0.4632 Validation Accuracy: 0.623400\n",
      "Epoch 28, CIFAR-10 Batch 5:  Loss:     0.5721 Validation Accuracy: 0.640000\n",
      "Epoch 29, CIFAR-10 Batch 1:  Loss:     0.6230 Validation Accuracy: 0.626200\n",
      "Epoch 29, CIFAR-10 Batch 2:  Loss:     0.5964 Validation Accuracy: 0.624400\n",
      "Epoch 29, CIFAR-10 Batch 3:  Loss:     0.5126 Validation Accuracy: 0.612200\n",
      "Epoch 29, CIFAR-10 Batch 4:  Loss:     0.4384 Validation Accuracy: 0.621600\n",
      "Epoch 29, CIFAR-10 Batch 5:  Loss:     0.5523 Validation Accuracy: 0.634200\n",
      "Epoch 30, CIFAR-10 Batch 1:  Loss:     0.5783 Validation Accuracy: 0.620800\n",
      "Epoch 30, CIFAR-10 Batch 2:  Loss:     0.5135 Validation Accuracy: 0.638600\n",
      "Epoch 30, CIFAR-10 Batch 3:  Loss:     0.4682 Validation Accuracy: 0.624200\n",
      "Epoch 30, CIFAR-10 Batch 4:  Loss:     0.4137 Validation Accuracy: 0.634200\n",
      "Epoch 30, CIFAR-10 Batch 5:  Loss:     0.5344 Validation Accuracy: 0.643000\n",
      "Epoch 31, CIFAR-10 Batch 1:  Loss:     0.5319 Validation Accuracy: 0.634800\n",
      "Epoch 31, CIFAR-10 Batch 2:  Loss:     0.5594 Validation Accuracy: 0.621200\n",
      "Epoch 31, CIFAR-10 Batch 3:  Loss:     0.4611 Validation Accuracy: 0.622400\n",
      "Epoch 31, CIFAR-10 Batch 4:  Loss:     0.4082 Validation Accuracy: 0.631400\n",
      "Epoch 31, CIFAR-10 Batch 5:  Loss:     0.5208 Validation Accuracy: 0.643400\n",
      "Epoch 32, CIFAR-10 Batch 1:  Loss:     0.4993 Validation Accuracy: 0.636600\n",
      "Epoch 32, CIFAR-10 Batch 2:  Loss:     0.5200 Validation Accuracy: 0.610400\n",
      "Epoch 32, CIFAR-10 Batch 3:  Loss:     0.4409 Validation Accuracy: 0.619200\n",
      "Epoch 32, CIFAR-10 Batch 4:  Loss:     0.3707 Validation Accuracy: 0.632800\n",
      "Epoch 32, CIFAR-10 Batch 5:  Loss:     0.5070 Validation Accuracy: 0.631400\n",
      "Epoch 33, CIFAR-10 Batch 1:  Loss:     0.5027 Validation Accuracy: 0.638800\n",
      "Epoch 33, CIFAR-10 Batch 2:  Loss:     0.4731 Validation Accuracy: 0.616000\n",
      "Epoch 33, CIFAR-10 Batch 3:  Loss:     0.3939 Validation Accuracy: 0.625200\n",
      "Epoch 33, CIFAR-10 Batch 4:  Loss:     0.3868 Validation Accuracy: 0.635600\n",
      "Epoch 33, CIFAR-10 Batch 5:  Loss:     0.4962 Validation Accuracy: 0.633200\n",
      "Epoch 34, CIFAR-10 Batch 1:  Loss:     0.4685 Validation Accuracy: 0.632400\n",
      "Epoch 34, CIFAR-10 Batch 2:  Loss:     0.4426 Validation Accuracy: 0.634200\n",
      "Epoch 34, CIFAR-10 Batch 3:  Loss:     0.4369 Validation Accuracy: 0.624200\n",
      "Epoch 34, CIFAR-10 Batch 4:  Loss:     0.3505 Validation Accuracy: 0.634800\n",
      "Epoch 34, CIFAR-10 Batch 5:  Loss:     0.4621 Validation Accuracy: 0.634400\n",
      "Epoch 35, CIFAR-10 Batch 1:  Loss:     0.4555 Validation Accuracy: 0.633600\n",
      "Epoch 35, CIFAR-10 Batch 2:  Loss:     0.4197 Validation Accuracy: 0.637400\n",
      "Epoch 35, CIFAR-10 Batch 3:  Loss:     0.3575 Validation Accuracy: 0.642600\n",
      "Epoch 35, CIFAR-10 Batch 4:  Loss:     0.3416 Validation Accuracy: 0.640800\n",
      "Epoch 35, CIFAR-10 Batch 5:  Loss:     0.4263 Validation Accuracy: 0.627200\n",
      "Epoch 36, CIFAR-10 Batch 1:  Loss:     0.3942 Validation Accuracy: 0.638200\n",
      "Epoch 36, CIFAR-10 Batch 2:  Loss:     0.3811 Validation Accuracy: 0.640600\n",
      "Epoch 36, CIFAR-10 Batch 3:  Loss:     0.3312 Validation Accuracy: 0.634600\n",
      "Epoch 36, CIFAR-10 Batch 4:  Loss:     0.3222 Validation Accuracy: 0.629400\n",
      "Epoch 36, CIFAR-10 Batch 5:  Loss:     0.3771 Validation Accuracy: 0.624000\n",
      "Epoch 37, CIFAR-10 Batch 1:  Loss:     0.3843 Validation Accuracy: 0.625600\n",
      "Epoch 37, CIFAR-10 Batch 2:  Loss:     0.3752 Validation Accuracy: 0.645400\n",
      "Epoch 37, CIFAR-10 Batch 3:  Loss:     0.2800 Validation Accuracy: 0.637800\n",
      "Epoch 37, CIFAR-10 Batch 4:  Loss:     0.3285 Validation Accuracy: 0.629000\n",
      "Epoch 37, CIFAR-10 Batch 5:  Loss:     0.3506 Validation Accuracy: 0.638000\n",
      "Epoch 38, CIFAR-10 Batch 1:  Loss:     0.3380 Validation Accuracy: 0.632400\n",
      "Epoch 38, CIFAR-10 Batch 2:  Loss:     0.3532 Validation Accuracy: 0.644200\n",
      "Epoch 38, CIFAR-10 Batch 3:  Loss:     0.2994 Validation Accuracy: 0.638400\n",
      "Epoch 38, CIFAR-10 Batch 4:  Loss:     0.3223 Validation Accuracy: 0.628200\n",
      "Epoch 38, CIFAR-10 Batch 5:  Loss:     0.3132 Validation Accuracy: 0.639800\n",
      "Epoch 39, CIFAR-10 Batch 1:  Loss:     0.3014 Validation Accuracy: 0.638000\n",
      "Epoch 39, CIFAR-10 Batch 2:  Loss:     0.3406 Validation Accuracy: 0.645200\n",
      "Epoch 39, CIFAR-10 Batch 3:  Loss:     0.2892 Validation Accuracy: 0.631800\n",
      "Epoch 39, CIFAR-10 Batch 4:  Loss:     0.3232 Validation Accuracy: 0.629400\n",
      "Epoch 39, CIFAR-10 Batch 5:  Loss:     0.2940 Validation Accuracy: 0.646200\n",
      "Epoch 40, CIFAR-10 Batch 1:  Loss:     0.3075 Validation Accuracy: 0.641000\n",
      "Epoch 40, CIFAR-10 Batch 2:  Loss:     0.3174 Validation Accuracy: 0.649200\n",
      "Epoch 40, CIFAR-10 Batch 3:  Loss:     0.2428 Validation Accuracy: 0.634200\n",
      "Epoch 40, CIFAR-10 Batch 4:  Loss:     0.2776 Validation Accuracy: 0.626800\n",
      "Epoch 40, CIFAR-10 Batch 5:  Loss:     0.2676 Validation Accuracy: 0.640400\n",
      "Epoch 41, CIFAR-10 Batch 1:  Loss:     0.2859 Validation Accuracy: 0.643600\n",
      "Epoch 41, CIFAR-10 Batch 2:  Loss:     0.3026 Validation Accuracy: 0.647400\n",
      "Epoch 41, CIFAR-10 Batch 3:  Loss:     0.2277 Validation Accuracy: 0.636400\n",
      "Epoch 41, CIFAR-10 Batch 4:  Loss:     0.2456 Validation Accuracy: 0.640000\n",
      "Epoch 41, CIFAR-10 Batch 5:  Loss:     0.2611 Validation Accuracy: 0.645400\n",
      "Epoch 42, CIFAR-10 Batch 1:  Loss:     0.2588 Validation Accuracy: 0.647400\n",
      "Epoch 42, CIFAR-10 Batch 2:  Loss:     0.2659 Validation Accuracy: 0.648200\n",
      "Epoch 42, CIFAR-10 Batch 3:  Loss:     0.1919 Validation Accuracy: 0.637400\n",
      "Epoch 42, CIFAR-10 Batch 4:  Loss:     0.2428 Validation Accuracy: 0.635600\n",
      "Epoch 42, CIFAR-10 Batch 5:  Loss:     0.2347 Validation Accuracy: 0.643800\n",
      "Epoch 43, CIFAR-10 Batch 1:  Loss:     0.2426 Validation Accuracy: 0.651800\n",
      "Epoch 43, CIFAR-10 Batch 2:  Loss:     0.3044 Validation Accuracy: 0.640000\n",
      "Epoch 43, CIFAR-10 Batch 3:  Loss:     0.1478 Validation Accuracy: 0.639800\n",
      "Epoch 43, CIFAR-10 Batch 4:  Loss:     0.2364 Validation Accuracy: 0.633600\n",
      "Epoch 43, CIFAR-10 Batch 5:  Loss:     0.1965 Validation Accuracy: 0.640800\n",
      "Epoch 44, CIFAR-10 Batch 1:  Loss:     0.2290 Validation Accuracy: 0.642200\n"
     ]
    },
    {
     "name": "stdout",
     "output_type": "stream",
     "text": [
      "Epoch 44, CIFAR-10 Batch 2:  Loss:     0.2772 Validation Accuracy: 0.639000\n",
      "Epoch 44, CIFAR-10 Batch 3:  Loss:     0.1479 Validation Accuracy: 0.637000\n",
      "Epoch 44, CIFAR-10 Batch 4:  Loss:     0.2327 Validation Accuracy: 0.627000\n",
      "Epoch 44, CIFAR-10 Batch 5:  Loss:     0.2464 Validation Accuracy: 0.638800\n",
      "Epoch 45, CIFAR-10 Batch 1:  Loss:     0.2035 Validation Accuracy: 0.646200\n",
      "Epoch 45, CIFAR-10 Batch 2:  Loss:     0.2546 Validation Accuracy: 0.643000\n",
      "Epoch 45, CIFAR-10 Batch 3:  Loss:     0.1524 Validation Accuracy: 0.637600\n",
      "Epoch 45, CIFAR-10 Batch 4:  Loss:     0.2184 Validation Accuracy: 0.634600\n",
      "Epoch 45, CIFAR-10 Batch 5:  Loss:     0.2020 Validation Accuracy: 0.644400\n",
      "Epoch 46, CIFAR-10 Batch 1:  Loss:     0.2029 Validation Accuracy: 0.653600\n",
      "Epoch 46, CIFAR-10 Batch 2:  Loss:     0.2007 Validation Accuracy: 0.649600\n",
      "Epoch 46, CIFAR-10 Batch 3:  Loss:     0.1516 Validation Accuracy: 0.634400\n",
      "Epoch 46, CIFAR-10 Batch 4:  Loss:     0.2092 Validation Accuracy: 0.624600\n",
      "Epoch 46, CIFAR-10 Batch 5:  Loss:     0.2093 Validation Accuracy: 0.651400\n",
      "Epoch 47, CIFAR-10 Batch 1:  Loss:     0.1691 Validation Accuracy: 0.660000\n",
      "Epoch 47, CIFAR-10 Batch 2:  Loss:     0.1970 Validation Accuracy: 0.654000\n",
      "Epoch 47, CIFAR-10 Batch 3:  Loss:     0.1283 Validation Accuracy: 0.648000\n",
      "Epoch 47, CIFAR-10 Batch 4:  Loss:     0.1771 Validation Accuracy: 0.633400\n",
      "Epoch 47, CIFAR-10 Batch 5:  Loss:     0.2114 Validation Accuracy: 0.642800\n",
      "Epoch 48, CIFAR-10 Batch 1:  Loss:     0.1671 Validation Accuracy: 0.652600\n",
      "Epoch 48, CIFAR-10 Batch 2:  Loss:     0.1938 Validation Accuracy: 0.652200\n",
      "Epoch 48, CIFAR-10 Batch 3:  Loss:     0.1316 Validation Accuracy: 0.634600\n",
      "Epoch 48, CIFAR-10 Batch 4:  Loss:     0.1519 Validation Accuracy: 0.636000\n",
      "Epoch 48, CIFAR-10 Batch 5:  Loss:     0.1943 Validation Accuracy: 0.648200\n",
      "Epoch 49, CIFAR-10 Batch 1:  Loss:     0.1704 Validation Accuracy: 0.648800\n",
      "Epoch 49, CIFAR-10 Batch 2:  Loss:     0.2077 Validation Accuracy: 0.647600\n",
      "Epoch 49, CIFAR-10 Batch 3:  Loss:     0.1099 Validation Accuracy: 0.637200\n",
      "Epoch 49, CIFAR-10 Batch 4:  Loss:     0.1607 Validation Accuracy: 0.646800\n",
      "Epoch 49, CIFAR-10 Batch 5:  Loss:     0.1680 Validation Accuracy: 0.647000\n",
      "Epoch 50, CIFAR-10 Batch 1:  Loss:     0.1737 Validation Accuracy: 0.649800\n",
      "Epoch 50, CIFAR-10 Batch 2:  Loss:     0.1876 Validation Accuracy: 0.646600\n",
      "Epoch 50, CIFAR-10 Batch 3:  Loss:     0.1275 Validation Accuracy: 0.636000\n",
      "Epoch 50, CIFAR-10 Batch 4:  Loss:     0.1743 Validation Accuracy: 0.646800\n",
      "Epoch 50, CIFAR-10 Batch 5:  Loss:     0.1805 Validation Accuracy: 0.641200\n"
     ]
    }
   ],
   "source": [
    "\"\"\"\n",
    "DON'T MODIFY ANYTHING IN THIS CELL\n",
    "\"\"\"\n",
    "save_model_path = './image_classification'\n",
    "\n",
    "print('Training...')\n",
    "with tf.Session() as sess:\n",
    "    # Initializing the variables\n",
    "    sess.run(tf.global_variables_initializer())\n",
    "    \n",
    "    # Training cycle\n",
    "    for epoch in range(epochs):\n",
    "        # Loop over all batches\n",
    "        n_batches = 5\n",
    "        for batch_i in range(1, n_batches + 1):\n",
    "            for batch_features, batch_labels in helper.load_preprocess_training_batch(batch_i, batch_size):\n",
    "                train_neural_network(sess, optimizer, keep_probability, batch_features, batch_labels)\n",
    "            print('Epoch {:>2}, CIFAR-10 Batch {}:  '.format(epoch + 1, batch_i), end='')\n",
    "            print_stats(sess, batch_features, batch_labels, cost, accuracy)\n",
    "            \n",
    "    # Save Model\n",
    "    saver = tf.train.Saver()\n",
    "    save_path = saver.save(sess, save_model_path)"
   ]
  },
  {
   "cell_type": "markdown",
   "metadata": {},
   "source": [
    "# Checkpoint\n",
    "The model has been saved to disk.\n",
    "## Test Model\n",
    "Test your model against the test dataset.  This will be your final accuracy. You should have an accuracy greater than 50%. If you don't, keep tweaking the model architecture and parameters."
   ]
  },
  {
   "cell_type": "code",
   "execution_count": 199,
   "metadata": {},
   "outputs": [
    {
     "name": "stdout",
     "output_type": "stream",
     "text": [
      "Testing Accuracy: 0.6331372418824364\n",
      "\n"
     ]
    },
    {
     "data": {
      "image/png": "[encoded data removed]",
      "text/plain": [
       "<matplotlib.figure.Figure at 0x7fb0c8756c88>"
      ]
     },
     "metadata": {
      "image/png": {
       "height": 319,
       "width": 355
      }
     },
     "output_type": "display_data"
    }
   ],
   "source": [
    "\"\"\"\n",
    "DON'T MODIFY ANYTHING IN THIS CELL\n",
    "\"\"\"\n",
    "%matplotlib inline\n",
    "%config InlineBackend.figure_format = 'retina'\n",
    "\n",
    "import tensorflow as tf\n",
    "import pickle\n",
    "import helper\n",
    "import random\n",
    "\n",
    "# Set batch size if not already set\n",
    "try:\n",
    "    if batch_size:\n",
    "        pass\n",
    "except NameError:\n",
    "    batch_size = 64\n",
    "\n",
    "save_model_path = './image_classification'\n",
    "n_samples = 4\n",
    "top_n_predictions = 3\n",
    "\n",
    "def test_model():\n",
    "    \"\"\"\n",
    "    Test the saved model against the test dataset\n",
    "    \"\"\"\n",
    "\n",
    "    test_features, test_labels = pickle.load(open('preprocess_test.p', mode='rb'))\n",
    "    loaded_graph = tf.Graph()\n",
    "\n",
    "    with tf.Session(graph=loaded_graph) as sess:\n",
    "        # Load model\n",
    "        loader = tf.train.import_meta_graph(save_model_path + '.meta')\n",
    "        loader.restore(sess, save_model_path)\n",
    "\n",
    "        # Get Tensors from loaded model\n",
    "        loaded_x = loaded_graph.get_tensor_by_name('x:0')\n",
    "        loaded_y = loaded_graph.get_tensor_by_name('y:0')\n",
    "        loaded_keep_prob = loaded_graph.get_tensor_by_name('keep_prob:0')\n",
    "        loaded_logits = loaded_graph.get_tensor_by_name('logits:0')\n",
    "        loaded_acc = loaded_graph.get_tensor_by_name('accuracy:0')\n",
    "        \n",
    "        # Get accuracy in batches for memory limitations\n",
    "        test_batch_acc_total = 0\n",
    "        test_batch_count = 0\n",
    "        \n",
    "        for test_feature_batch, test_label_batch in helper.batch_features_labels(test_features, test_labels, batch_size):\n",
    "            test_batch_acc_total += sess.run(\n",
    "                loaded_acc,\n",
    "                feed_dict={loaded_x: test_feature_batch, loaded_y: test_label_batch, loaded_keep_prob: 1.0})\n",
    "            test_batch_count += 1\n",
    "\n",
    "        print('Testing Accuracy: {}\\n'.format(test_batch_acc_total/test_batch_count))\n",
    "\n",
    "        # Print Random Samples\n",
    "        random_test_features, random_test_labels = tuple(zip(*random.sample(list(zip(test_features, test_labels)), n_samples)))\n",
    "        random_test_predictions = sess.run(\n",
    "            tf.nn.top_k(tf.nn.softmax(loaded_logits), top_n_predictions),\n",
    "            feed_dict={loaded_x: random_test_features, loaded_y: random_test_labels, loaded_keep_prob: 1.0})\n",
    "        helper.display_image_predictions(random_test_features, random_test_labels, random_test_predictions)\n",
    "\n",
    "\n",
    "test_model()"
   ]
  },
  {
   "cell_type": "markdown",
   "metadata": {},
   "source": [
    "## Why 50-80% Accuracy?\n",
    "You might be wondering why you can't get an accuracy any higher. First things first, 50% isn't bad for a simple CNN.  Pure guessing would get you 10% accuracy. However, you might notice people are getting scores [well above 80%](http://rodrigob.github.io/are_we_there_yet/build/classification_datasets_results.html#43494641522d3130).  That's because we haven't taught you all there is to know about neural networks. We still need to cover a few more techniques.\n",
    "## Submitting This Project\n",
    "When submitting this project, make sure to run all the cells before saving the notebook.  Save the notebook file as \"dlnd_image_classification.ipynb\" and save it as a HTML file under \"File\" -> \"Download as\".  Include the \"helper.py\" and \"problem_unittests.py\" files in your submission."
   ]
  }
 ],
 "metadata": {
  "anaconda-cloud": {},
  "kernelspec": {
   "display_name": "Python 3",
   "language": "python",
   "name": "python3"
  },
  "language_info": {
   "codemirror_mode": {
    "name": "ipython",
    "version": 3
   },
   "file_extension": ".py",
   "mimetype": "text/x-python",
   "name": "python",
   "nbconvert_exporter": "python",
   "pygments_lexer": "ipython3",
   "version": "3.5.3"
  },
  "widgets": {
   "state": {},
   "version": "1.1.2"
  }
 },
 "nbformat": 4,
 "nbformat_minor": 1
}
